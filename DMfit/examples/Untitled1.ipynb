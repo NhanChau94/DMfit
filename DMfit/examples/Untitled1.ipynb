{
 "cells": [
  {
   "cell_type": "code",
   "execution_count": 99,
   "metadata": {},
   "outputs": [],
   "source": [
    "import numpy as np\n",
    "from iminuit import Minuit\n"
   ]
  },
  {
   "cell_type": "code",
   "execution_count": 100,
   "metadata": {},
   "outputs": [],
   "source": [
    "import matplotlib.pylab as plt\n",
    "data1 = np.random.normal(loc=20,scale=1, size=1000) # 1st gaussian\n",
    "data2 = 30*np.random.random(size=1000) # uniform bkg\n",
    "data3 = np.random.normal(loc=10, scale=10, size=1000) # 2nd gaussian"
   ]
  },
  {
   "cell_type": "code",
   "execution_count": 101,
   "metadata": {},
   "outputs": [
    {
     "data": {
      "image/png": "[encoded data removed]",
      "text/plain": [
       "<Figure size 432x288 with 3 Axes>"
      ]
     },
     "metadata": {
      "needs_background": "light"
     },
     "output_type": "display_data"
    }
   ],
   "source": [
    "fig, axes = plt.subplots(1,3)\n",
    "axes[0].grid()\n",
    "signalPDF, bins, patch = axes[0].hist(data1, bins = 30, range=(0,30), density=True)\n",
    "axes[0].set_xlabel(\"x\")\n",
    "axes[0].set_ylabel(\"counts\")\n",
    "\n",
    "bkgPDF, bins, patch = axes[1].hist(data2, bins = 30, range=(0,30), density=True)\n",
    "axes[1].grid()\n",
    "axes[1].set_xlabel(\"x\")\n",
    "axes[1].set_ylabel(\"counts\")\n",
    "\n",
    "bkgPDF2, bins, patch = axes[2].hist(data3, bins = 30, range=(0,30), density=True)\n",
    "axes[2].grid()\n",
    "axes[2].set_xlabel(\"x\")\n",
    "axes[2].set_ylabel(\"counts\")\n",
    "\n",
    "plt.show()\n",
    "ntotal = 1000\n",
    "nsig = 0.3 #signal\n",
    "n1 =  0.4 #First background component.\n",
    "#third is n2 = 1 - nsig - n1\n",
    "\n",
    "data = ntotal * (nsig * signalPDF + (1 - nsig) * ( (n1* bkgPDF + (1 - n1)* bkgPDF2)))"
   ]
  },
  {
   "cell_type": "code",
   "execution_count": 102,
   "metadata": {},
   "outputs": [
    {
     "name": "stdout",
     "output_type": "stream",
     "text": [
      "[ 20.44273839  24.27031785  22.77584352  21.93652812  25.06376528\n",
      "  28.47100244  29.31100244  30.85134474  27.91100244  34.16547677\n",
      "  26.65066015  34.02513447  27.77066015  30.52479218  30.43100244\n",
      "  24.45652812  28.21100244  30.90308068  71.46410758 132.80376528\n",
      " 113.47550122  59.42894866  18.88136919  18.17481663  14.98102689\n",
      "  16.75481663  15.02826406  15.30757946  12.97378973  12.55413203]\n"
     ]
    },
    {
     "data": {
      "text/plain": [
       "Text(0, 0.5, 'density')"
      ]
     },
     "execution_count": 102,
     "metadata": {},
     "output_type": "execute_result"
    },
    {
     "data": {
      "image/png": "[encoded data removed]",
      "text/plain": [
       "<Figure size 576x432 with 1 Axes>"
      ]
     },
     "metadata": {
      "needs_background": "light"
     },
     "output_type": "display_data"
    }
   ],
   "source": [
    "bin_width = np.diff(bins)[0]\n",
    "bin_centers = bins[:-1] + bin_width/2.\n",
    "\n",
    "print (data)\n",
    "fig, ax = plt.subplots(figsize=(8,6))\n",
    "ax.grid()\n",
    "ax.bar(bin_centers, data,width=bin_width)\n",
    "ax.set_xlabel(\"x\")\n",
    "ax.set_ylabel(\"density\")"
   ]
  },
  {
   "cell_type": "code",
   "execution_count": 103,
   "metadata": {},
   "outputs": [],
   "source": [
    "def evaluateLLH(pars):\n",
    "    xi = pars[0]\n",
    "    modelPDF = xi * signalPDF\n",
    "    \n",
    "    modelPDF += (1 - xi) * (pars[1]*bkgPDF + (1 - pars[1])*bkgPDF2)\n",
    "    \n",
    "    #Poisson likelihood\n",
    "    values = data * np.log(modelPDF) - modelPDF        \n",
    "    return -np.sum(values)"
   ]
  },
  {
   "cell_type": "code",
   "execution_count": 104,
   "metadata": {},
   "outputs": [
    {
     "data": {
      "text/plain": [
       "3193.5622415538933"
      ]
     },
     "execution_count": 104,
     "metadata": {},
     "output_type": "execute_result"
    }
   ],
   "source": [
    "evaluateLLH([0.2, 0.2])"
   ]
  },
  {
   "cell_type": "code",
   "execution_count": 105,
   "metadata": {},
   "outputs": [
    {
     "name": "stderr",
     "output_type": "stream",
     "text": [
      "/usr/local/lib/python3.7/site-packages/ipykernel_launcher.py:8: RuntimeWarning: invalid value encountered in log\n",
      "  \n"
     ]
    },
    {
     "data": {
      "text/html": [
       "<table>\n",
       "    <tr>\n",
       "        <td colspan=\"2\" style=\"text-align:left\" title=\"Minimum value of function\"> FCN = 3172 </td>\n",
       "        <td colspan=\"3\" style=\"text-align:center\" title=\"No. of calls in last algorithm and total number of calls\"> Ncalls = 58 (58 total) </td>\n",
       "    </tr>\n",
       "    <tr>\n",
       "        <td colspan=\"2\" style=\"text-align:left\" title=\"Estimated distance to minimum and goal\"> EDM = 1.18e-05 (Goal: 0.0001) </td>\n",
       "        <td colspan=\"3\" style=\"text-align:center\" title=\"Increase in FCN which corresponds to 1 standard deviation\"> up = 0.5 </td>\n",
       "    </tr>\n",
       "    <tr>\n",
       "        <td style=\"text-align:center;background-color:#92CCA6;color:black\"> Valid Minimum </td>\n",
       "        <td style=\"text-align:center;background-color:#92CCA6;color:black\"> Valid Parameters </td>\n",
       "        <td colspan=\"3\" style=\"text-align:center;background-color:#92CCA6;color:black\"> No Parameters at limit </td>\n",
       "    </tr>\n",
       "    <tr>\n",
       "        <td colspan=\"2\" style=\"text-align:center;background-color:#92CCA6;color:black\"> Below EDM threshold (goal x 10) </td>\n",
       "        <td colspan=\"3\" style=\"text-align:center;background-color:#92CCA6;color:black\"> Below call limit </td>\n",
       "    </tr>\n",
       "    <tr>\n",
       "        <td style=\"text-align:center;background-color:#92CCA6;color:black\"> Hesse ok </td>\n",
       "        <td style=\"text-align:center;background-color:#92CCA6;color:black\"> Has Covariance </td>\n",
       "        <td style=\"text-align:center;background-color:#92CCA6;color:black\" title=\"Is covariance matrix accurate?\"> Accurate </td>\n",
       "        <td style=\"text-align:center;background-color:#92CCA6;color:black\" title=\"Is covariance matrix positive definite?\"> Pos. def. </td>\n",
       "        <td style=\"text-align:center;background-color:#92CCA6;color:black\" title=\"Was positive definiteness enforced by Minuit?\"> Not forced </td>\n",
       "    </tr>\n",
       "</table><table>\n",
       "    <tr>\n",
       "        <td></td>\n",
       "        <th title=\"Variable name\"> Name </th>\n",
       "        <th title=\"Value of parameter\"> Value </th>\n",
       "        <th title=\"Hesse error\"> Hesse Error </th>\n",
       "        <th title=\"Minos lower error\"> Minos Error- </th>\n",
       "        <th title=\"Minos upper error\"> Minos Error+ </th>\n",
       "        <th title=\"Lower limit of the parameter\"> Limit- </th>\n",
       "        <th title=\"Upper limit of the parameter\"> Limit+ </th>\n",
       "        <th title=\"Is the parameter fixed in the fit\"> Fixed </th>\n",
       "    </tr>\n",
       "    <tr>\n",
       "        <th> 0 </th>\n",
       "        <td> nsig </td>\n",
       "        <td> 0.300 </td>\n",
       "        <td> 0.018 </td>\n",
       "        <td>  </td>\n",
       "        <td>  </td>\n",
       "        <td> -1 </td>\n",
       "        <td> 1 </td>\n",
       "        <td>  </td>\n",
       "    </tr>\n",
       "    <tr>\n",
       "        <th> 1 </th>\n",
       "        <td> n1 </td>\n",
       "        <td> 0.40 </td>\n",
       "        <td> 0.07 </td>\n",
       "        <td>  </td>\n",
       "        <td>  </td>\n",
       "        <td> -1 </td>\n",
       "        <td> 1 </td>\n",
       "        <td>  </td>\n",
       "    </tr>\n",
       "</table>"
      ],
      "text/plain": [
       "┌──────────────────────────────────┬──────────────────────────────────────┐\n",
       "│ FCN = 3172                       │        Ncalls = 58 (58 total)        │\n",
       "│ EDM = 1.18e-05 (Goal: 0.0001)    │               up = 0.5               │\n",
       "├───────────────┬──────────────────┼──────────────────────────────────────┤\n",
       "│ Valid Minimum │ Valid Parameters │        No Parameters at limit        │\n",
       "├───────────────┴──────────────────┼──────────────────────────────────────┤\n",
       "│ Below EDM threshold (goal x 10)  │           Below call limit           │\n",
       "├───────────────┬──────────────────┼───────────┬─────────────┬────────────┤\n",
       "│   Hesse ok    │  Has Covariance  │ Accurate  │  Pos. def.  │ Not forced │\n",
       "└───────────────┴──────────────────┴───────────┴─────────────┴────────────┘\n",
       "┌───┬──────┬───────────┬───────────┬────────────┬────────────┬─────────┬─────────┬───────┐\n",
       "│   │ Name │   Value   │ Hesse Err │ Minos Err- │ Minos Err+ │ Limit-  │ Limit+  │ Fixed │\n",
       "├───┼──────┼───────────┼───────────┼────────────┼────────────┼─────────┼─────────┼───────┤\n",
       "│ 0 │ nsig │   0.300   │   0.018   │            │            │   -1    │    1    │       │\n",
       "│ 1 │ n1   │   0.40    │   0.07    │            │            │   -1    │    1    │       │\n",
       "└───┴──────┴───────────┴───────────┴────────────┴────────────┴─────────┴─────────┴───────┘"
      ]
     },
     "execution_count": 105,
     "metadata": {},
     "output_type": "execute_result"
    }
   ],
   "source": [
    "kwds = dict()\n",
    "kwds['errordef']=.5\n",
    "#kwds['print_level']=0\n",
    "\n",
    "values = [0., 0.]\n",
    "fix = [False, False]\n",
    "error = [0.1]\n",
    "limit = [(-1,1), (-1, 1)]\n",
    "\n",
    "m = Minuit.from_array_func(evaluateLLH, (0., 1) , limit=limit, name=[\"nsig\", \"n1\"], **kwds)\n",
    "m.migrad()"
   ]
  },
  {
   "cell_type": "code",
   "execution_count": null,
   "metadata": {},
   "outputs": [],
   "source": []
  }
 ],
 "metadata": {
  "hide_input": false,
  "kernelspec": {
   "display_name": "Python 3",
   "language": "python",
   "name": "python3"
  },
  "language_info": {
   "codemirror_mode": {
    "name": "ipython",
    "version": 3
   },
   "file_extension": ".py",
   "mimetype": "text/x-python",
   "name": "python",
   "nbconvert_exporter": "python",
   "pygments_lexer": "ipython3",
   "version": "3.7.7"
  },
  "latex_envs": {
   "bibliofile": "biblio.bib",
   "cite_by": "apalike",
   "current_citInitial": 1,
   "eqLabelWithNumbers": true,
   "eqNumInitial": 0
  }
 },
 "nbformat": 4,
 "nbformat_minor": 4
}

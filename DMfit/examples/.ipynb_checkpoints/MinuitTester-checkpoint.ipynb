{
 "cells": [
  {
   "cell_type": "code",
   "execution_count": 2,
   "metadata": {},
   "outputs": [],
   "source": [
    "import numpy as np\n",
    "from iminuit import Minuit\n"
   ]
  },
  {
   "cell_type": "code",
   "execution_count": 3,
   "metadata": {},
   "outputs": [],
   "source": [
    "import matplotlib.pylab as plt\n",
    "data1 = np.random.normal(loc=20,scale=1, size=1000) # 1st gaussian\n",
    "data2 = 30*np.random.random(size=1000) # uniform bkg\n",
    "data3 = np.random.normal(loc=10, scale=10, size=1000) # 2nd gaussian"
   ]
  },
  {
   "cell_type": "code",
   "execution_count": 7,
   "metadata": {},
   "outputs": [
    {
     "data": {
      "image/png": "[encoded data removed]",
      "text/plain": [
       "<Figure size 720x432 with 3 Axes>"
      ]
     },
     "metadata": {
      "needs_background": "light"
     },
     "output_type": "display_data"
    }
   ],
   "source": [
    "fig, axes = plt.subplots(1,3, figsize=(10,6))\n",
    "axes[0].grid()\n",
    "signalPDF, bins, patch = axes[0].hist(data1, bins = 30, range=(0,30), density=True)\n",
    "axes[0].set_xlabel(\"x\")\n",
    "axes[0].set_ylabel(\"counts\")\n",
    "\n",
    "bkgPDF, bins, patch = axes[1].hist(data2, bins = 30, range=(0,30), density=True)\n",
    "axes[1].grid()\n",
    "axes[1].set_xlabel(\"x\")\n",
    "axes[1].set_ylabel(\"counts\")\n",
    "\n",
    "bkgPDF2, bins, patch = axes[2].hist(data3, bins = 30, range=(0,30), density=True)\n",
    "axes[2].grid()\n",
    "axes[2].set_xlabel(\"x\")\n",
    "axes[2].set_ylabel(\"counts\")\n",
    "\n",
    "plt.show()\n",
    "ntotal = 1000\n",
    "nsig = 0.3 #signal\n",
    "n1 =  0.4 #First background component.\n",
    "#third is n2 = 1 - nsig - n1\n",
    "\n",
    "data = ntotal * (nsig * signalPDF + (1 - nsig) * ( (n1* bkgPDF + (1 - n1)* bkgPDF2)))"
   ]
  },
  {
   "cell_type": "code",
   "execution_count": 8,
   "metadata": {},
   "outputs": [
    {
     "name": "stdout",
     "output_type": "stream",
     "text": [
      "[ 26.12890995  20.62312796  21.37023697  26.25232227  29.39469194\n",
      "  27.18521327  22.48890995  30.14047393  23.82654028  31.54047393\n",
      "  29.58047393  28.70995261  37.32492891  29.02047393  27.77706161\n",
      "  29.39469194  23.57838863  33.68521327  67.40890995 120.58417062\n",
      " 126.45838863  66.60549763  22.25734597  14.79630332  16.33156398\n",
      "  19.16208531  11.51052133  14.55867299  12.03867299  10.26578199]\n"
     ]
    },
    {
     "data": {
      "text/plain": [
       "Text(0, 0.5, 'density')"
      ]
     },
     "execution_count": 8,
     "metadata": {},
     "output_type": "execute_result"
    },
    {
     "data": {
      "image/png": "[encoded data removed]",
      "text/plain": [
       "<Figure size 576x432 with 1 Axes>"
      ]
     },
     "metadata": {
      "needs_background": "light"
     },
     "output_type": "display_data"
    }
   ],
   "source": [
    "bin_width = np.diff(bins)[0]\n",
    "bin_centers = bins[:-1] + bin_width/2.\n",
    "\n",
    "print (data)\n",
    "fig, ax = plt.subplots(figsize=(8,6))\n",
    "ax.grid()\n",
    "ax.bar(bin_centers, data,width=bin_width)\n",
    "ax.set_xlabel(\"x\")\n",
    "ax.set_ylabel(\"density\")"
   ]
  },
  {
   "cell_type": "code",
   "execution_count": 9,
   "metadata": {},
   "outputs": [
    {
     "ename": "NameError",
     "evalue": "name 'pdf' is not defined",
     "output_type": "error",
     "traceback": [
      "\u001b[0;31m---------------------------------------------------------------------------\u001b[0m",
      "\u001b[0;31mNameError\u001b[0m                                 Traceback (most recent call last)",
      "\u001b[0;32m<ipython-input-9-d1ad01063474>\u001b[0m in \u001b[0;36m<module>\u001b[0;34m\u001b[0m\n\u001b[0;32m----> 1\u001b[0;31m \u001b[0msignalPDF\u001b[0m \u001b[0;34m=\u001b[0m \u001b[0mpdf\u001b[0m\u001b[0;34m.\u001b[0m\u001b[0mPdfBase\u001b[0m\u001b[0;34m(\u001b[0m\u001b[0msignalPDF\u001b[0m\u001b[0;34m,\u001b[0m \u001b[0mname\u001b[0m\u001b[0;34m=\u001b[0m\u001b[0;34m\"signalPDF\"\u001b[0m\u001b[0;34m)\u001b[0m\u001b[0;34m\u001b[0m\u001b[0;34m\u001b[0m\u001b[0m\n\u001b[0m",
      "\u001b[0;31mNameError\u001b[0m: name 'pdf' is not defined"
     ]
    }
   ],
   "source": [
    "\n",
    "\n",
    "signalPDF = pdf.PdfBase(signalPDF, name=\"signalPDF\")"
   ]
  },
  {
   "cell_type": "code",
   "execution_count": 103,
   "metadata": {},
   "outputs": [],
   "source": [
    "def evaluateLLH(pars):\n",
    "    xi = pars[0]\n",
    "    modelPDF = xi * signalPDF\n",
    "    \n",
    "    modelPDF += (1 - xi) * (pars[1]*bkgPDF + (1 - pars[1])*bkgPDF2)\n",
    "    \n",
    "    #Poisson likelihood\n",
    "    values = data * np.log(modelPDF) - modelPDF        \n",
    "    return -np.sum(values)"
   ]
  },
  {
   "cell_type": "code",
   "execution_count": 104,
   "metadata": {},
   "outputs": [
    {
     "data": {
      "text/plain": [
       "3193.5622415538933"
      ]
     },
     "execution_count": 104,
     "metadata": {},
     "output_type": "execute_result"
    }
   ],
   "source": [
    "evaluateLLH([0.2, 0.2])"
   ]
  },
  {
   "cell_type": "code",
   "execution_count": 105,
   "metadata": {},
   "outputs": [
    {
     "name": "stderr",
     "output_type": "stream",
     "text": [
      "/usr/local/lib/python3.7/site-packages/ipykernel_launcher.py:8: RuntimeWarning: invalid value encountered in log\n",
      "  \n"
     ]
    },
    {
     "data": {
      "text/html": [
       "<table>\n",
       "    <tr>\n",
       "        <td colspan=\"2\" style=\"text-align:left\" title=\"Minimum value of function\"> FCN = 3172 </td>\n",
       "        <td colspan=\"3\" style=\"text-align:center\" title=\"No. of calls in last algorithm and total number of calls\"> Ncalls = 58 (58 total) </td>\n",
       "    </tr>\n",
       "    <tr>\n",
       "        <td colspan=\"2\" style=\"text-align:left\" title=\"Estimated distance to minimum and goal\"> EDM = 1.18e-05 (Goal: 0.0001) </td>\n",
       "        <td colspan=\"3\" style=\"text-align:center\" title=\"Increase in FCN which corresponds to 1 standard deviation\"> up = 0.5 </td>\n",
       "    </tr>\n",
       "    <tr>\n",
       "        <td style=\"text-align:center;background-color:#92CCA6;color:black\"> Valid Minimum </td>\n",
       "        <td style=\"text-align:center;background-color:#92CCA6;color:black\"> Valid Parameters </td>\n",
       "        <td colspan=\"3\" style=\"text-align:center;background-color:#92CCA6;color:black\"> No Parameters at limit </td>\n",
       "    </tr>\n",
       "    <tr>\n",
       "        <td colspan=\"2\" style=\"text-align:center;background-color:#92CCA6;color:black\"> Below EDM threshold (goal x 10) </td>\n",
       "        <td colspan=\"3\" style=\"text-align:center;background-color:#92CCA6;color:black\"> Below call limit </td>\n",
       "    </tr>\n",
       "    <tr>\n",
       "        <td style=\"text-align:center;background-color:#92CCA6;color:black\"> Hesse ok </td>\n",
       "        <td style=\"text-align:center;background-color:#92CCA6;color:black\"> Has Covariance </td>\n",
       "        <td style=\"text-align:center;background-color:#92CCA6;color:black\" title=\"Is covariance matrix accurate?\"> Accurate </td>\n",
       "        <td style=\"text-align:center;background-color:#92CCA6;color:black\" title=\"Is covariance matrix positive definite?\"> Pos. def. </td>\n",
       "        <td style=\"text-align:center;background-color:#92CCA6;color:black\" title=\"Was positive definiteness enforced by Minuit?\"> Not forced </td>\n",
       "    </tr>\n",
       "</table><table>\n",
       "    <tr>\n",
       "        <td></td>\n",
       "        <th title=\"Variable name\"> Name </th>\n",
       "        <th title=\"Value of parameter\"> Value </th>\n",
       "        <th title=\"Hesse error\"> Hesse Error </th>\n",
       "        <th title=\"Minos lower error\"> Minos Error- </th>\n",
       "        <th title=\"Minos upper error\"> Minos Error+ </th>\n",
       "        <th title=\"Lower limit of the parameter\"> Limit- </th>\n",
       "        <th title=\"Upper limit of the parameter\"> Limit+ </th>\n",
       "        <th title=\"Is the parameter fixed in the fit\"> Fixed </th>\n",
       "    </tr>\n",
       "    <tr>\n",
       "        <th> 0 </th>\n",
       "        <td> nsig </td>\n",
       "        <td> 0.300 </td>\n",
       "        <td> 0.018 </td>\n",
       "        <td>  </td>\n",
       "        <td>  </td>\n",
       "        <td> -1 </td>\n",
       "        <td> 1 </td>\n",
       "        <td>  </td>\n",
       "    </tr>\n",
       "    <tr>\n",
       "        <th> 1 </th>\n",
       "        <td> n1 </td>\n",
       "        <td> 0.40 </td>\n",
       "        <td> 0.07 </td>\n",
       "        <td>  </td>\n",
       "        <td>  </td>\n",
       "        <td> -1 </td>\n",
       "        <td> 1 </td>\n",
       "        <td>  </td>\n",
       "    </tr>\n",
       "</table>"
      ],
      "text/plain": [
       "┌──────────────────────────────────┬──────────────────────────────────────┐\n",
       "│ FCN = 3172                       │        Ncalls = 58 (58 total)        │\n",
       "│ EDM = 1.18e-05 (Goal: 0.0001)    │               up = 0.5               │\n",
       "├───────────────┬──────────────────┼──────────────────────────────────────┤\n",
       "│ Valid Minimum │ Valid Parameters │        No Parameters at limit        │\n",
       "├───────────────┴──────────────────┼──────────────────────────────────────┤\n",
       "│ Below EDM threshold (goal x 10)  │           Below call limit           │\n",
       "├───────────────┬──────────────────┼───────────┬─────────────┬────────────┤\n",
       "│   Hesse ok    │  Has Covariance  │ Accurate  │  Pos. def.  │ Not forced │\n",
       "└───────────────┴──────────────────┴───────────┴─────────────┴────────────┘\n",
       "┌───┬──────┬───────────┬───────────┬────────────┬────────────┬─────────┬─────────┬───────┐\n",
       "│   │ Name │   Value   │ Hesse Err │ Minos Err- │ Minos Err+ │ Limit-  │ Limit+  │ Fixed │\n",
       "├───┼──────┼───────────┼───────────┼────────────┼────────────┼─────────┼─────────┼───────┤\n",
       "│ 0 │ nsig │   0.300   │   0.018   │            │            │   -1    │    1    │       │\n",
       "│ 1 │ n1   │   0.40    │   0.07    │            │            │   -1    │    1    │       │\n",
       "└───┴──────┴───────────┴───────────┴────────────┴────────────┴─────────┴─────────┴───────┘"
      ]
     },
     "execution_count": 105,
     "metadata": {},
     "output_type": "execute_result"
    }
   ],
   "source": [
    "kwds = dict()\n",
    "kwds['errordef']=.5\n",
    "#kwds['print_level']=0\n",
    "\n",
    "values = [0., 0.]\n",
    "fix = [False, False]\n",
    "error = [0.1]\n",
    "limit = [(-1,1), (-1, 1)]\n",
    "\n",
    "m = Minuit.from_array_func(evaluateLLH, (0., 1) , limit=limit, name=[\"nsig\", \"n1\"], **kwds)\n",
    "m.migrad()"
   ]
  },
  {
   "cell_type": "code",
   "execution_count": null,
   "metadata": {},
   "outputs": [],
   "source": []
  }
 ],
 "metadata": {
  "hide_input": false,
  "kernelspec": {
   "display_name": "Python 3",
   "language": "python",
   "name": "python3"
  },
  "language_info": {
   "codemirror_mode": {
    "name": "ipython",
    "version": 3
   },
   "file_extension": ".py",
   "mimetype": "text/x-python",
   "name": "python",
   "nbconvert_exporter": "python",
   "pygments_lexer": "ipython3",
   "version": "3.7.7"
  },
  "latex_envs": {
   "bibliofile": "biblio.bib",
   "cite_by": "apalike",
   "current_citInitial": 1,
   "eqLabelWithNumbers": true,
   "eqNumInitial": 0
  }
 },
 "nbformat": 4,
 "nbformat_minor": 4
}

{
 "cells": [
  {
   "cell_type": "code",
   "execution_count": 203,
   "metadata": {},
   "outputs": [],
   "source": [
    "import abc\n",
    "from typing import Dict, List, Optional, Iterable, Mapping, Any, Tuple, Union\n",
    "import numpy as np\n",
    "import collections"
   ]
  },
  {
   "cell_type": "code",
   "execution_count": 310,
   "metadata": {},
   "outputs": [],
   "source": [
    "   \n",
    "class PdfBase(abc.ABC):\n",
    "    \"\"\"PDF base class\"\"\"\n",
    "\n",
    "    def __init__(self, frequencies = None, errors2 = None, **kwargs):\n",
    "        \n",
    "        if frequencies is not None:\n",
    "            frequencies = np.asarray(frequencies)\n",
    "            self.frequencies = frequencies\n",
    "           \n",
    "        if errors2 is not None:\n",
    "            errors2 = np.asarray(errors2)\n",
    "            self.errors2 = errors2\n",
    "        \n",
    "       \n",
    "        self._meta_data = kwargs.copy()\n",
    "     \n",
    "            \n",
    "    def __getitem__(self, index: int):\n",
    "        return self.frequencies[index]\n",
    "        \n",
    "    @property\n",
    "    def meta_data(self) -> dict:\n",
    "        \"\"\"A dictionary of non-numerical information about the pdf.\n",
    "        \"\"\"\n",
    "        return self._meta_data\n",
    "        \n",
    "    \n",
    "    @property\n",
    "    def name(self) -> Optional[str]:\n",
    "        \"\"\"Name of the Pdf (stored in meta-data).\"\"\"\n",
    "        return self._meta_data.get(\"name\", None)\n",
    "    \n",
    "    @name.setter\n",
    "    def name(self, value: str):\n",
    "        \"\"\"Name of the Pdf\n",
    "        \"\"\"\n",
    "        self._meta_data[\"name\"] = str(value)\n",
    "        \n",
    "    @property\n",
    "    def frequencies(self):\n",
    "        try:\n",
    "            return self._frequencies\n",
    "        except AttributeError as e:\n",
    "            raise AttributeError(str(e), \"Frequencies not set yet!\")\n",
    "        \n",
    "    @frequencies.setter\n",
    "    def frequencies(self, frequencies: np.ndarray) -> None:\n",
    "        if np.any(frequencies < 0):\n",
    "            raise ValueError(\"Cannot have negative values in the pdf.\")\n",
    "        elif not np.isclose(np.sum(frequencies),1.):\n",
    "            raise ValueError(\"PDF is not normalized!\")\n",
    "            \n",
    "        self._frequencies = frequencies\n",
    "        \n",
    "        \n",
    "    @property\n",
    "    def errors2(self):\n",
    "        try:\n",
    "            return self._errors2\n",
    "        except AttributeError as e:\n",
    "            raise AttributeError(str(e), \"Errors2 not set yet!\")\n",
    "   \n",
    "    @errors2.setter\n",
    "    def errors2(self, errors2: np.ndarray) -> None:\n",
    "        if np.any(errors2 < 0):\n",
    "            raise ValueError(\"Cannot have negative errors2\")\n",
    "        \n",
    "        self._errors2 = errors2\n",
    "        \n",
    "    @property   \n",
    "    def nbins(self) -> int:\n",
    "        \"\"\"Number of bins of the pdf\"\"\"\n",
    "        return len(self._frequencies)\n",
    "    \n",
    "    def __mul__(self, other):\n",
    "        \"\"\"If we multiply by a float or a int, the method returns simply the frequencies multiplied \"\"\"\n",
    "        if isinstance(other, int) or isinstance(other, float):\n",
    "            frequencies = other * self._frequencies\n",
    "            return frequencies\n",
    "        \n",
    "        elif isinstance(other, Parameter):\n",
    "            expression = \"self._parameters['{}'].value*self._pdfs['{}'][index]\".format(other.name, self.name)\n",
    "            name = \"{}*{}\".format(other.name, self.name)\n",
    "            m = Model(pdfs = [self], parameters=[other], name=name, expression=expression)\n",
    "            return m\n",
    "    def __rmul__(self, other):\n",
    "        return self.__mul__(other)\n",
    "\n",
    "    def __add__(self, other):\n",
    "        if isinstance(other, int) or isinstance(other, float):\n",
    "            frequencies = other + self._frequencies\n",
    "            return frequencies\n",
    "\n",
    "        elif isinstance(other, Parameter):\n",
    "            expression = \"self._parameters['{}'].value + self._pdfs['{}'][index]\".format(other.name, self.name)\n",
    "            name = \"{}+{}\".format(other.name, self.name)\n",
    "            m = Model(pdfs = [self], parameters=[other], name=name, expression=expression)\n",
    "            return m\n",
    "        elif isinstance(other, PdfBase):\n",
    "            expression = \"self._pdfs['{}'][index] + self._pdfs['{}'][index]\".format(other.name, self.name)\n",
    "            name = \"{}+{}\".format(other.name, self.name)\n",
    "            m = Model(pdfs = [self], parameters=[other], name=name, expression=expression)\n",
    "            return m\n",
    "            \n",
    "    def __rmul__(self, other):\n",
    "        return self.__mul__(other)\n",
    "    def __radd__(self, other):\n",
    "        return self.__add__(other)\n",
    "\n"
   ]
  },
  {
   "cell_type": "code",
   "execution_count": 311,
   "metadata": {},
   "outputs": [],
   "source": [
    "class Model(abc.ABC):\n",
    "    def __init__(self, pdfs = None, parameters = None, **kwargs):\n",
    "        self._pdfs = collections.OrderedDict()\n",
    "        self._parameters = collections.OrderedDict()\n",
    "       \n",
    "        if pdfs is not None:\n",
    "            for pdf in pdfs:\n",
    "                self._add_pdf(pdf)\n",
    "        if parameters is not None:    \n",
    "            for param in parameters:\n",
    "                self._add_parameter(param)\n",
    "        \n",
    "        self._meta_data = kwargs.copy()\n",
    "                \n",
    "    def _add_parameter(self, param):\n",
    "    \n",
    "        if isinstance(param, Parameter):\n",
    "            name = param.name\n",
    "            \n",
    "            if name  in self._parameters.keys():\n",
    "                print (r\"Parameter {} already exists in the model!\".format(name))\n",
    "\n",
    "            else:\n",
    "                self._parameters[name] = param\n",
    "            \n",
    "    def _add_pdf(self, pdf):\n",
    "        \n",
    "        \n",
    "        \n",
    "        \n",
    "        if isinstance(pdf, PdfBase):\n",
    "            name = pdf.name\n",
    "            if name  in self._pdfs.keys():\n",
    "                print (r\"PDF {} already exists in the model!\".format(name))\n",
    "            else:\n",
    "                self._pdfs[name] = pdf\n",
    "            \n",
    "    @property\n",
    "    def meta_data(self) -> dict:\n",
    "        \"\"\"A dictionary of non-numerical information \n",
    "        \"\"\"\n",
    "        return self._meta_data\n",
    "    \n",
    "    @property\n",
    "    def name(self) -> Optional[str]:\n",
    "        return self._meta_data.get(\"name\", None)\n",
    "   \n",
    "    @name.setter\n",
    "    def name(self, value: str):\n",
    "        self._meta_data[\"name\"] = str(value)\n",
    "    \n",
    "    \n",
    "    @property\n",
    "    def expression(self) -> Optional[str]:\n",
    "        \"\"\"Name of the histogram (stored in meta-data).\"\"\"\n",
    "        return self._meta_data.get(\"expression\", None)\n",
    "    \n",
    "    @expression.setter\n",
    "    def expression(self, value: str):\n",
    "        self._meta_data[\"expression\"] = str(value)\n",
    "    \n",
    "    def __getitem__(self, index: int):\n",
    "        expression = self.expression\n",
    "        variables = {\"index\" : index, \"self\": self}\n",
    "        return eval(expression, {}, variables)\n",
    "            \n",
    "    def __add__(self, other):\n",
    "        if isinstance(other, int) or isinstance(other, float):\n",
    "            frequencies = other + self._frequencies\n",
    "            return frequencies\n",
    "\n",
    "        elif isinstance(other, PdfBase):\n",
    "            expression = \"{} + self._pdfs['{}'][index]\".format(self.expression, other.name)\n",
    "            name = \"{} + {}\".format(self.name, other.name)\n",
    "            m = Model(pdfs=[self._pdfs + other], parameters=self._parameters, name=name, expression=expression)\n",
    "            return m\n",
    "        \n",
    "    def __radd__(self, other):\n",
    "        return self.__add__(other)\n",
    "        \n",
    "        #elif isinstance(other, PdfBase):\n",
    "         #   m = Model([self, other], [], name=\"{} + {}\".format(self.name, other.name))\n",
    "         #   return m"
   ]
  },
  {
   "cell_type": "code",
   "execution_count": 312,
   "metadata": {},
   "outputs": [],
   "source": [
    "class Parameter():\n",
    "    \"\"\" Parameter class \"\"\"\n",
    "    def __init__(self, name, value, limits, fixed, **kwargs):\n",
    "        \n",
    "        limits = np.asarray(limits)\n",
    "        self.limits = limits\n",
    "        self.fixed = fixed\n",
    "        self._meta_data = kwargs.copy()\n",
    "        self.value = value\n",
    "        self.name = name\n",
    "    @property    \n",
    "    def meta_data(self) -> dict:\n",
    "        return self._meta_data\n",
    "    \n",
    "    @property\n",
    "    def name(self) -> Optional[str]:\n",
    "        \n",
    "        return self._meta_data.get(\"name\", None)\n",
    "    \n",
    "    @name.setter\n",
    "    def name(self, value: str):\n",
    "        self._meta_data[\"name\"] = str(value)\n",
    "    \n",
    "    @property\n",
    "    def value(self) -> float:\n",
    "        \"\"\"Name of the histogram (stored in meta-data).\"\"\"\n",
    "        return self._value\n",
    "    \n",
    "    @value.setter\n",
    "    def value(self, value: float):\n",
    "        \"\"\"Name of the histogram (stored in meta-data).\"\"\"\n",
    "        \n",
    "        if self.limits[0] <= value <= self.limits[1]:\n",
    "            self._value = value\n",
    "        else:\n",
    "            raise ValueError(\" Value {} is not between limits ({}, {})\".format(value, self.limits[0], self.limits[1]))\n",
    "   \n",
    "    @property\n",
    "    def limits(self) -> np.ndarray:\n",
    "        return self._limits\n",
    "    \n",
    "    @limits.setter\n",
    "    def limits(self, limits: np.ndarray):\n",
    "        if ( len(limits) != 2 ):\n",
    "            raise ValueError( \"Limits need a dim = 2\")\n",
    "        elif limits[0] >= limits[1]:\n",
    "            raise ValueError( \"Lower limit is equal or greater than upper limit\")\n",
    "        else:\n",
    "            self._limits = limits\n",
    "    @property\n",
    "    def upper_limit(self) -> float:\n",
    "        return self._limits[1]\n",
    "    @property\n",
    "    def lower_limit(self) -> float:\n",
    "        return self._limits[0]\n",
    "    @upper_limit.setter\n",
    "    def upper_limit(self, value : float):\n",
    "        if value < self._limits[0]:\n",
    "            raise ValueError( \" Upper limit {} is smaller than lower limit {}\".format(value, self._limits[0]))\n",
    "        else:\n",
    "            self._limits[1] = value\n",
    "    @lower_limit.setter\n",
    "    def lower_limit(self, value : float):\n",
    "        if value > self._limits[1]:\n",
    "            raise ValueError( \" Lower limit {} is greater than upper limit {}\".format(value, self._limits[1]))\n",
    "        else:\n",
    "            self._limits[0] = value\n",
    "    \n",
    "        \n",
    "    def __str__(self):\n",
    "        line = [\" Name: {}\".format(str(self.name))]\n",
    "        line.append(\" Value: {}\".format(str(self._value)))\n",
    "        line.append(\" Limits: ({}, {})\".format(str(self.limits[0]), str(self.limits[1])))\n",
    "        line.append(\" Is fixed? {}\".format(self.fixed))\n",
    "        return \"\\n\".join(line)"
   ]
  },
  {
   "cell_type": "code",
   "execution_count": 313,
   "metadata": {},
   "outputs": [],
   "source": [
    "#Create a paramter\n",
    "n1 = Parameter(\"nsig\", 2, (1,3), True)"
   ]
  },
  {
   "cell_type": "code",
   "execution_count": 314,
   "metadata": {},
   "outputs": [
    {
     "name": "stdout",
     "output_type": "stream",
     "text": [
      " Name: nsig\n",
      " Value: 2\n",
      " Limits: (1, 5)\n",
      " Is fixed? True\n"
     ]
    }
   ],
   "source": [
    "n1.value = 2\n",
    "\n",
    "n1.upper_limit = 5\n",
    "\n",
    "print (n1)"
   ]
  },
  {
   "cell_type": "code",
   "execution_count": 321,
   "metadata": {},
   "outputs": [
    {
     "name": "stdout",
     "output_type": "stream",
     "text": [
      "signal\n",
      "nsig\n",
      "self._parameters['nsig'].value*self._pdfs['signal'][index] + self._pdfs['background'][index]\n"
     ]
    }
   ],
   "source": [
    "#Create a pdf\n",
    "freq = np.random.random(10)\n",
    "\n",
    "freq = freq/np.sum(freq)\n",
    "SignalPdf = PdfBase(freq)\n",
    "SignalPdf.name = \"signal\"\n",
    "\n",
    "BkgPdf = PdfBase(freq)\n",
    "BkgPdf.name = \"background\"\n",
    "\n",
    "print (pdf.name)\n",
    "print (n1.name)\n",
    "\n",
    "m = (n1*SignalPdf + BkgPdf)\n",
    "\n",
    "print (m.expression)"
   ]
  },
  {
   "cell_type": "code",
   "execution_count": 322,
   "metadata": {},
   "outputs": [
    {
     "name": "stdout",
     "output_type": "stream",
     "text": [
      "odict_keys([])\n",
      "odict_keys(['nsig'])\n"
     ]
    }
   ],
   "source": [
    "print(m._parameters.keys())\n",
    "\n",
    "\n",
    "m2 = Model([pdf], [n1], name=\"ll\")\n",
    "\n",
    "print (m2._parameters.keys())"
   ]
  },
  {
   "cell_type": "code",
   "execution_count": 317,
   "metadata": {},
   "outputs": [
    {
     "name": "stdout",
     "output_type": "stream",
     "text": [
      "0.23042903109423907\n"
     ]
    }
   ],
   "source": [
    "n1.name = \"nsig\"\n",
    "print (m[6])\n",
    "\n",
    "m._parameters['nsig'].value = 4"
   ]
  },
  {
   "cell_type": "code",
   "execution_count": 318,
   "metadata": {},
   "outputs": [
    {
     "name": "stdout",
     "output_type": "stream",
     "text": [
      "self._parameters['nsig'].value*self._pdfs['signal'][index]\n"
     ]
    }
   ],
   "source": [
    "print(m.expression)"
   ]
  },
  {
   "cell_type": "code",
   "execution_count": 163,
   "metadata": {},
   "outputs": [
    {
     "ename": "KeyError",
     "evalue": "'nsig'",
     "output_type": "error",
     "traceback": [
      "\u001b[0;31m---------------------------------------------------------------------------\u001b[0m",
      "\u001b[0;31mKeyError\u001b[0m                                  Traceback (most recent call last)",
      "\u001b[0;32m<ipython-input-163-a3c9f27ffd8d>\u001b[0m in \u001b[0;36m<module>\u001b[0;34m\u001b[0m\n\u001b[0;32m----> 1\u001b[0;31m \u001b[0meval\u001b[0m\u001b[0;34m(\u001b[0m\u001b[0;34m\"m._parameters['nsig'].value*m._pdfs['signal'][2]\"\u001b[0m\u001b[0;34m)\u001b[0m\u001b[0;34m\u001b[0m\u001b[0;34m\u001b[0m\u001b[0m\n\u001b[0m",
      "\u001b[0;32m<string>\u001b[0m in \u001b[0;36m<module>\u001b[0;34m\u001b[0m\n",
      "\u001b[0;31mKeyError\u001b[0m: 'nsig'"
     ]
    }
   ],
   "source": [
    "eval(\"m._parameters['nsig'].value*m._pdfs['signal'][2]\")"
   ]
  },
  {
   "cell_type": "code",
   "execution_count": 112,
   "metadata": {},
   "outputs": [
    {
     "ename": "KeyError",
     "evalue": "'signal'",
     "output_type": "error",
     "traceback": [
      "\u001b[0;31m---------------------------------------------------------------------------\u001b[0m",
      "\u001b[0;31mKeyError\u001b[0m                                  Traceback (most recent call last)",
      "\u001b[0;32m<ipython-input-112-ced705e6dc68>\u001b[0m in \u001b[0;36m<module>\u001b[0;34m\u001b[0m\n\u001b[1;32m      1\u001b[0m \u001b[0mvar\u001b[0m \u001b[0;34m=\u001b[0m \u001b[0;34m{\u001b[0m\u001b[0;34m\"name\"\u001b[0m\u001b[0;34m:\u001b[0m \u001b[0;34m\"signal\"\u001b[0m\u001b[0;34m,\u001b[0m \u001b[0;34m\"i\"\u001b[0m\u001b[0;34m:\u001b[0m \u001b[0;36m4\u001b[0m\u001b[0;34m,\u001b[0m \u001b[0;34m\"par_name\"\u001b[0m\u001b[0;34m:\u001b[0m \u001b[0;34m\"nsig\"\u001b[0m\u001b[0;34m,\u001b[0m \u001b[0;34m\"self\"\u001b[0m\u001b[0;34m:\u001b[0m \u001b[0mm\u001b[0m\u001b[0;34m}\u001b[0m\u001b[0;34m\u001b[0m\u001b[0;34m\u001b[0m\u001b[0m\n\u001b[0;32m----> 2\u001b[0;31m \u001b[0mprint\u001b[0m \u001b[0;34m(\u001b[0m\u001b[0mm\u001b[0m\u001b[0;34m.\u001b[0m\u001b[0mevaluate\u001b[0m\u001b[0;34m(\u001b[0m\u001b[0;36m4\u001b[0m\u001b[0;34m,\u001b[0m \u001b[0;34m\"signal\"\u001b[0m\u001b[0;34m,\u001b[0m \u001b[0;34m\"self._parameters[name].value*self._pdfs[name][i]\"\u001b[0m\u001b[0;34m,\u001b[0m \u001b[0mvar\u001b[0m\u001b[0;34m)\u001b[0m\u001b[0;34m)\u001b[0m\u001b[0;34m\u001b[0m\u001b[0;34m\u001b[0m\u001b[0m\n\u001b[0m",
      "\u001b[0;32m<ipython-input-86-a46dcd62aca9>\u001b[0m in \u001b[0;36mevaluate\u001b[0;34m(self, i, name, expression, variables)\u001b[0m\n\u001b[1;32m     50\u001b[0m \u001b[0;34m\u001b[0m\u001b[0m\n\u001b[1;32m     51\u001b[0m     \u001b[0;32mdef\u001b[0m \u001b[0mevaluate\u001b[0m\u001b[0;34m(\u001b[0m\u001b[0mself\u001b[0m\u001b[0;34m,\u001b[0m \u001b[0mi\u001b[0m\u001b[0;34m:\u001b[0m \u001b[0mint\u001b[0m\u001b[0;34m,\u001b[0m \u001b[0mname\u001b[0m\u001b[0;34m:\u001b[0m \u001b[0mstr\u001b[0m\u001b[0;34m,\u001b[0m \u001b[0mexpression\u001b[0m\u001b[0;34m:\u001b[0m \u001b[0mstr\u001b[0m\u001b[0;34m,\u001b[0m \u001b[0mvariables\u001b[0m\u001b[0;34m:\u001b[0m \u001b[0mdict\u001b[0m\u001b[0;34m)\u001b[0m \u001b[0;34m->\u001b[0m \u001b[0mfloat\u001b[0m\u001b[0;34m:\u001b[0m\u001b[0;34m\u001b[0m\u001b[0;34m\u001b[0m\u001b[0m\n\u001b[0;32m---> 52\u001b[0;31m             \u001b[0;32mreturn\u001b[0m \u001b[0meval\u001b[0m\u001b[0;34m(\u001b[0m\u001b[0mexpression\u001b[0m\u001b[0;34m,\u001b[0m  \u001b[0;34m{\u001b[0m\u001b[0;34m}\u001b[0m\u001b[0;34m,\u001b[0m \u001b[0mvariables\u001b[0m\u001b[0;34m)\u001b[0m\u001b[0;34m\u001b[0m\u001b[0;34m\u001b[0m\u001b[0m\n\u001b[0m\u001b[1;32m     53\u001b[0m            \u001b[0;31m#return self._pdfs[name][i]\u001b[0m\u001b[0;34m\u001b[0m\u001b[0;34m\u001b[0m\u001b[0;34m\u001b[0m\u001b[0m\n\u001b[1;32m     54\u001b[0m \u001b[0;34m\u001b[0m\u001b[0m\n",
      "\u001b[0;32m<string>\u001b[0m in \u001b[0;36m<module>\u001b[0;34m\u001b[0m\n",
      "\u001b[0;31mKeyError\u001b[0m: 'signal'"
     ]
    }
   ],
   "source": [
    "var = {\"name\": \"signal\", \"i\": 4, \"par_name\": \"nsig\", \"self\": m}\n",
    "print (m.evaluate( \"self._parameters[name].value*self._pdfs[name][i]\", var))"
   ]
  },
  {
   "cell_type": "code",
   "execution_count": 267,
   "metadata": {},
   "outputs": [
    {
     "data": {
      "text/plain": [
       "0.937089754382292"
      ]
     },
     "execution_count": 267,
     "metadata": {},
     "output_type": "execute_result"
    }
   ],
   "source": [
    "5*pdf._frequencies[4]"
   ]
  },
  {
   "cell_type": "code",
   "execution_count": 166,
   "metadata": {},
   "outputs": [
    {
     "ename": "AttributeError",
     "evalue": "(\"'PdfBase' object has no attribute '_errors2'\", ' Errors2 not set yet!')",
     "output_type": "error",
     "traceback": [
      "\u001b[0;31m---------------------------------------------------------------------------\u001b[0m",
      "\u001b[0;31mAttributeError\u001b[0m                            Traceback (most recent call last)",
      "\u001b[0;32m<ipython-input-164-c7ab0bcffe71>\u001b[0m in \u001b[0;36merrors2\u001b[0;34m(self)\u001b[0m\n\u001b[1;32m     60\u001b[0m         \u001b[0;32mtry\u001b[0m\u001b[0;34m:\u001b[0m\u001b[0;34m\u001b[0m\u001b[0;34m\u001b[0m\u001b[0m\n\u001b[0;32m---> 61\u001b[0;31m             \u001b[0;32mreturn\u001b[0m \u001b[0mself\u001b[0m\u001b[0;34m.\u001b[0m\u001b[0m_errors2\u001b[0m\u001b[0;34m\u001b[0m\u001b[0;34m\u001b[0m\u001b[0m\n\u001b[0m\u001b[1;32m     62\u001b[0m         \u001b[0;32mexcept\u001b[0m \u001b[0mAttributeError\u001b[0m \u001b[0;32mas\u001b[0m \u001b[0me\u001b[0m\u001b[0;34m:\u001b[0m\u001b[0;34m\u001b[0m\u001b[0;34m\u001b[0m\u001b[0m\n",
      "\u001b[0;31mAttributeError\u001b[0m: 'PdfBase' object has no attribute '_errors2'",
      "\nDuring handling of the above exception, another exception occurred:\n",
      "\u001b[0;31mAttributeError\u001b[0m                            Traceback (most recent call last)",
      "\u001b[0;32m<ipython-input-166-056da6e0446f>\u001b[0m in \u001b[0;36m<module>\u001b[0;34m\u001b[0m\n\u001b[0;32m----> 1\u001b[0;31m \u001b[0mpdf\u001b[0m\u001b[0;34m.\u001b[0m\u001b[0merrors2\u001b[0m\u001b[0;34m\u001b[0m\u001b[0;34m\u001b[0m\u001b[0m\n\u001b[0m",
      "\u001b[0;32m<ipython-input-164-c7ab0bcffe71>\u001b[0m in \u001b[0;36merrors2\u001b[0;34m(self)\u001b[0m\n\u001b[1;32m     61\u001b[0m             \u001b[0;32mreturn\u001b[0m \u001b[0mself\u001b[0m\u001b[0;34m.\u001b[0m\u001b[0m_errors2\u001b[0m\u001b[0;34m\u001b[0m\u001b[0;34m\u001b[0m\u001b[0m\n\u001b[1;32m     62\u001b[0m         \u001b[0;32mexcept\u001b[0m \u001b[0mAttributeError\u001b[0m \u001b[0;32mas\u001b[0m \u001b[0me\u001b[0m\u001b[0;34m:\u001b[0m\u001b[0;34m\u001b[0m\u001b[0;34m\u001b[0m\u001b[0m\n\u001b[0;32m---> 63\u001b[0;31m             \u001b[0;32mraise\u001b[0m \u001b[0mAttributeError\u001b[0m\u001b[0;34m(\u001b[0m\u001b[0mstr\u001b[0m\u001b[0;34m(\u001b[0m\u001b[0me\u001b[0m\u001b[0;34m)\u001b[0m\u001b[0;34m,\u001b[0m \u001b[0;34m\" Errors2 not set yet!\"\u001b[0m\u001b[0;34m)\u001b[0m\u001b[0;34m\u001b[0m\u001b[0;34m\u001b[0m\u001b[0m\n\u001b[0m\u001b[1;32m     64\u001b[0m \u001b[0;34m\u001b[0m\u001b[0m\n\u001b[1;32m     65\u001b[0m     \u001b[0;34m@\u001b[0m\u001b[0merrors2\u001b[0m\u001b[0;34m.\u001b[0m\u001b[0msetter\u001b[0m\u001b[0;34m\u001b[0m\u001b[0;34m\u001b[0m\u001b[0m\n",
      "\u001b[0;31mAttributeError\u001b[0m: (\"'PdfBase' object has no attribute '_errors2'\", ' Errors2 not set yet!')"
     ]
    }
   ],
   "source": [
    "pdf.errors2"
   ]
  },
  {
   "cell_type": "code",
   "execution_count": 81,
   "metadata": {},
   "outputs": [
    {
     "data": {
      "text/plain": [
       "0.16472198083253178"
      ]
     },
     "execution_count": 81,
     "metadata": {},
     "output_type": "execute_result"
    }
   ],
   "source": [
    "m._add_pdf(pdf)\n",
    "\n",
    "m._pdfs[\"signal\"][1]"
   ]
  },
  {
   "cell_type": "code",
   "execution_count": 82,
   "metadata": {},
   "outputs": [
    {
     "ename": "AttributeError",
     "evalue": "(\"'PdfBase' object has no attribute '_errors2'\", ' Errors2 not set yet!')",
     "output_type": "error",
     "traceback": [
      "\u001b[0;31m---------------------------------------------------------------------------\u001b[0m",
      "\u001b[0;31mAttributeError\u001b[0m                            Traceback (most recent call last)",
      "\u001b[0;32m<ipython-input-79-c7ab0bcffe71>\u001b[0m in \u001b[0;36merrors2\u001b[0;34m(self)\u001b[0m\n\u001b[1;32m     60\u001b[0m         \u001b[0;32mtry\u001b[0m\u001b[0;34m:\u001b[0m\u001b[0;34m\u001b[0m\u001b[0;34m\u001b[0m\u001b[0m\n\u001b[0;32m---> 61\u001b[0;31m             \u001b[0;32mreturn\u001b[0m \u001b[0mself\u001b[0m\u001b[0;34m.\u001b[0m\u001b[0m_errors2\u001b[0m\u001b[0;34m\u001b[0m\u001b[0;34m\u001b[0m\u001b[0m\n\u001b[0m\u001b[1;32m     62\u001b[0m         \u001b[0;32mexcept\u001b[0m \u001b[0mAttributeError\u001b[0m \u001b[0;32mas\u001b[0m \u001b[0me\u001b[0m\u001b[0;34m:\u001b[0m\u001b[0;34m\u001b[0m\u001b[0;34m\u001b[0m\u001b[0m\n",
      "\u001b[0;31mAttributeError\u001b[0m: 'PdfBase' object has no attribute '_errors2'",
      "\nDuring handling of the above exception, another exception occurred:\n",
      "\u001b[0;31mAttributeError\u001b[0m                            Traceback (most recent call last)",
      "\u001b[0;32m<ipython-input-82-28914b025998>\u001b[0m in \u001b[0;36m<module>\u001b[0;34m\u001b[0m\n\u001b[1;32m      1\u001b[0m \u001b[0mpdf\u001b[0m\u001b[0;34m.\u001b[0m\u001b[0mfrequencies\u001b[0m \u001b[0;34m=\u001b[0m \u001b[0mfreq\u001b[0m\u001b[0;34m\u001b[0m\u001b[0;34m\u001b[0m\u001b[0m\n\u001b[1;32m      2\u001b[0m \u001b[0;34m\u001b[0m\u001b[0m\n\u001b[0;32m----> 3\u001b[0;31m \u001b[0mpdf\u001b[0m\u001b[0;34m.\u001b[0m\u001b[0merrors2\u001b[0m\u001b[0;34m\u001b[0m\u001b[0;34m\u001b[0m\u001b[0m\n\u001b[0m",
      "\u001b[0;32m<ipython-input-79-c7ab0bcffe71>\u001b[0m in \u001b[0;36merrors2\u001b[0;34m(self)\u001b[0m\n\u001b[1;32m     61\u001b[0m             \u001b[0;32mreturn\u001b[0m \u001b[0mself\u001b[0m\u001b[0;34m.\u001b[0m\u001b[0m_errors2\u001b[0m\u001b[0;34m\u001b[0m\u001b[0;34m\u001b[0m\u001b[0m\n\u001b[1;32m     62\u001b[0m         \u001b[0;32mexcept\u001b[0m \u001b[0mAttributeError\u001b[0m \u001b[0;32mas\u001b[0m \u001b[0me\u001b[0m\u001b[0;34m:\u001b[0m\u001b[0;34m\u001b[0m\u001b[0;34m\u001b[0m\u001b[0m\n\u001b[0;32m---> 63\u001b[0;31m             \u001b[0;32mraise\u001b[0m \u001b[0mAttributeError\u001b[0m\u001b[0;34m(\u001b[0m\u001b[0mstr\u001b[0m\u001b[0;34m(\u001b[0m\u001b[0me\u001b[0m\u001b[0;34m)\u001b[0m\u001b[0;34m,\u001b[0m \u001b[0;34m\" Errors2 not set yet!\"\u001b[0m\u001b[0;34m)\u001b[0m\u001b[0;34m\u001b[0m\u001b[0;34m\u001b[0m\u001b[0m\n\u001b[0m\u001b[1;32m     64\u001b[0m \u001b[0;34m\u001b[0m\u001b[0m\n\u001b[1;32m     65\u001b[0m     \u001b[0;34m@\u001b[0m\u001b[0merrors2\u001b[0m\u001b[0;34m.\u001b[0m\u001b[0msetter\u001b[0m\u001b[0;34m\u001b[0m\u001b[0;34m\u001b[0m\u001b[0m\n",
      "\u001b[0;31mAttributeError\u001b[0m: (\"'PdfBase' object has no attribute '_errors2'\", ' Errors2 not set yet!')"
     ]
    }
   ],
   "source": [
    "pdf.frequencies = freq\n",
    "\n",
    "pdf.errors2"
   ]
  },
  {
   "cell_type": "code",
   "execution_count": 22,
   "metadata": {},
   "outputs": [],
   "source": [
    "class P:\n",
    "\n",
    "    def __init__(self,x):\n",
    "        self.x = x\n",
    "\n",
    "    @property\n",
    "    def x(self):\n",
    "        return self.__x\n",
    "\n",
    "    @x.setter\n",
    "    def x(self, x):\n",
    "        if x < 0:\n",
    "            self.__x = 0\n",
    "        elif x > 1000:\n",
    "            self.__x = 1000\n",
    "        else:\n",
    "            self.__x = x"
   ]
  },
  {
   "cell_type": "code",
   "execution_count": 24,
   "metadata": {},
   "outputs": [],
   "source": [
    "p1 = P(2)"
   ]
  },
  {
   "cell_type": "code",
   "execution_count": 25,
   "metadata": {},
   "outputs": [],
   "source": [
    "p1.x = 2"
   ]
  },
  {
   "cell_type": "code",
   "execution_count": 26,
   "metadata": {},
   "outputs": [
    {
     "data": {
      "text/plain": [
       "2"
      ]
     },
     "execution_count": 26,
     "metadata": {},
     "output_type": "execute_result"
    }
   ],
   "source": [
    "p1.x"
   ]
  },
  {
   "cell_type": "code",
   "execution_count": 27,
   "metadata": {},
   "outputs": [],
   "source": [
    "p1.x =45"
   ]
  },
  {
   "cell_type": "code",
   "execution_count": 28,
   "metadata": {},
   "outputs": [
    {
     "data": {
      "text/plain": [
       "45"
      ]
     },
     "execution_count": 28,
     "metadata": {},
     "output_type": "execute_result"
    }
   ],
   "source": [
    "p1.x"
   ]
  },
  {
   "cell_type": "code",
   "execution_count": 95,
   "metadata": {},
   "outputs": [],
   "source": [
    "txt = \"5* a + 4\"\n"
   ]
  },
  {
   "cell_type": "code",
   "execution_count": 97,
   "metadata": {},
   "outputs": [
    {
     "data": {
      "text/plain": [
       "29"
      ]
     },
     "execution_count": 97,
     "metadata": {},
     "output_type": "execute_result"
    }
   ],
   "source": [
    "eval(txt, {}, {\"a\": 5})"
   ]
  },
  {
   "cell_type": "code",
   "execution_count": null,
   "metadata": {},
   "outputs": [],
   "source": []
  }
 ],
 "metadata": {
  "hide_input": false,
  "kernelspec": {
   "display_name": "Python 3",
   "language": "python",
   "name": "python3"
  },
  "language_info": {
   "codemirror_mode": {
    "name": "ipython",
    "version": 3
   },
   "file_extension": ".py",
   "mimetype": "text/x-python",
   "name": "python",
   "nbconvert_exporter": "python",
   "pygments_lexer": "ipython3",
   "version": "3.7.7"
  },
  "latex_envs": {
   "bibliofile": "biblio.bib",
   "cite_by": "apalike",
   "current_citInitial": 1,
   "eqLabelWithNumbers": true,
   "eqNumInitial": 0
  }
 },
 "nbformat": 4,
 "nbformat_minor": 4
}

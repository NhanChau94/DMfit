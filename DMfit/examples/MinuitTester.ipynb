{
 "cells": [
  {
   "cell_type": "code",
   "execution_count": 1,
   "metadata": {},
   "outputs": [],
   "source": [
    "from modeling import PdfBase, Model, Parameter"
   ]
  },
  {
   "cell_type": "code",
   "execution_count": 2,
   "metadata": {},
   "outputs": [],
   "source": [
    "import numpy as np\n",
    "from iminuit import Minuit\n"
   ]
  },
  {
   "cell_type": "code",
   "execution_count": 3,
   "metadata": {},
   "outputs": [],
   "source": [
    "import matplotlib.pylab as plt\n",
    "data1 = np.random.normal(loc=20,scale=1, size=1000) # 1st gaussian\n",
    "data2 = 30*np.random.random(size=1000) # uniform bkg\n",
    "data3 = np.random.normal(loc=10, scale=10, size=1000) # 2nd gaussian"
   ]
  },
  {
   "cell_type": "code",
   "execution_count": 4,
   "metadata": {},
   "outputs": [
    {
     "data": {
      "image/png": "[encoded data removed]",
      "text/plain": [
       "<Figure size 720x432 with 3 Axes>"
      ]
     },
     "metadata": {
      "needs_background": "light"
     },
     "output_type": "display_data"
    }
   ],
   "source": [
    "fig, axes = plt.subplots(1,3, figsize=(10,6))\n",
    "axes[0].grid()\n",
    "signalPDF, bins, patch = axes[0].hist(data1, bins = 30, range=(0,30), density=True)\n",
    "axes[0].set_xlabel(\"x\")\n",
    "axes[0].set_ylabel(\"counts\")\n",
    "\n",
    "bkgPDF, bins, patch = axes[1].hist(data2, bins = 30, range=(0,30), density=True)\n",
    "axes[1].grid()\n",
    "axes[1].set_xlabel(\"x\")\n",
    "axes[1].set_ylabel(\"counts\")\n",
    "\n",
    "bkgPDF2, bins, patch = axes[2].hist(data3, bins = 30, range=(0,30), density=True)\n",
    "axes[2].grid()\n",
    "axes[2].set_xlabel(\"x\")\n",
    "axes[2].set_ylabel(\"counts\")\n",
    "\n",
    "plt.show()\n",
    "ntotal = 1000\n",
    "nsig = 0.3 #signal\n",
    "n1 =  0.4 #First background component.\n",
    "#third is n2 = 1 - nsig - n1\n",
    "\n",
    "data = ntotal * (nsig * signalPDF + (1 - nsig) * ( (n1* bkgPDF + (1 - n1)* bkgPDF2)))"
   ]
  },
  {
   "cell_type": "code",
   "execution_count": 5,
   "metadata": {},
   "outputs": [
    {
     "name": "stdout",
     "output_type": "stream",
     "text": [
      "[ 23.32508095  22.87596513  28.34938979  26.92811955  23.36204234\n",
      "  24.29723537  33.20458281  35.14889166  30.36762142  29.955467\n",
      "  28.62938979  29.88154421  31.28154421  24.05419676  26.42635118\n",
      "  24.37115816  21.14204234  34.87723537  56.82684932 122.98988792\n",
      " 130.41419676  62.03596513  27.7407721   20.33469489  18.72861768\n",
      "  11.42734745  17.38127024  10.77215442  11.92911582  10.94127024]\n"
     ]
    },
    {
     "data": {
      "text/plain": [
       "Text(0, 0.5, 'density')"
      ]
     },
     "execution_count": 5,
     "metadata": {},
     "output_type": "execute_result"
    },
    {
     "data": {
      "image/png": "[encoded data removed]",
      "text/plain": [
       "<Figure size 576x432 with 1 Axes>"
      ]
     },
     "metadata": {
      "needs_background": "light"
     },
     "output_type": "display_data"
    }
   ],
   "source": [
    "bin_width = np.diff(bins)[0]\n",
    "bin_centers = bins[:-1] + bin_width/2.\n",
    "\n",
    "print (data)\n",
    "fig, ax = plt.subplots(figsize=(8,6))\n",
    "ax.grid()\n",
    "ax.bar(bin_centers, data,width=bin_width)\n",
    "ax.set_xlabel(\"x\")\n",
    "ax.set_ylabel(\"density\")"
   ]
  },
  {
   "cell_type": "code",
   "execution_count": 6,
   "metadata": {},
   "outputs": [
    {
     "name": "stdout",
     "output_type": "stream",
     "text": [
      "Parameter n2 already exists in the model!\n",
      "Parameter n1 already exists in the model!\n"
     ]
    }
   ],
   "source": [
    "#from pdf.pdf import PdfBase\n",
    "\n",
    "SignalPDF = PdfBase(signalPDF, name=\"SignalPDF\")\n",
    "AtmosPDF = PdfBase(bkgPDF, name=\"AtmosPDF\")\n",
    "CorsikaPDF = PdfBase(bkgPDF2, name=\"CorsikaPDF\")\n",
    "\n",
    "sigfrac = Parameter(value=0.3, limits=(0,1), fixed=False, name=\"n1\")\n",
    "sigatmos_frac = Parameter(value=0.4, limits=(0,1), fixed=False, name=\"n2\")\n",
    "\n",
    "\n",
    "#data = ntotal * (nsig * signalPDF + (1 - nsig) * ( (n1* bkgPDF + (1 - n1)* bkgPDF2)))\n",
    "\n",
    "#model = sigfrac * SignalPDF  + (sigatmos_frac * AtmosPDF + CorsikaPDF - sigatmos_frac * CorsikaPDF) - sigfrac * (sigatmos_frac * AtmosPDF) -  sigfrac * CorsikaPDF + sigfrac * (sigatmos_frac * CorsikaPDF)  \n",
    "\n",
    "model = sigfrac * SignalPDF  + (1 - sigfrac) * ( sigatmos_frac * AtmosPDF + ( 1 - sigatmos_frac)* CorsikaPDF)\n",
    "\n",
    "#model = ( 1 - sigatmos_frac) * CorsikaPDF"
   ]
  },
  {
   "cell_type": "code",
   "execution_count": 8,
   "metadata": {},
   "outputs": [
    {
     "name": "stdout",
     "output_type": "stream",
     "text": [
      " Model: n1*SignalPDF + (1-n1)*(n2*AtmosPDF + (1-n2) * CorsikaPDF)\n",
      " Number of pdf: 3\n",
      " - SignalPDF\n",
      " - AtmosPDF\n",
      " - CorsikaPDF\n",
      " Number of parameters: 2\n",
      " - n1, limits = (0,1),  Is it Fixed? False\n",
      " - n2, limits = (0,1),  Is it Fixed? False\n"
     ]
    }
   ],
   "source": [
    "print (model)"
   ]
  },
  {
   "cell_type": "code",
   "execution_count": 9,
   "metadata": {},
   "outputs": [
    {
     "name": "stdout",
     "output_type": "stream",
     "text": [
      "self._parameters['n1'].value*self._pdfs['SignalPDF'][index] + (1 - self._parameters['n1'].value) * (self._parameters['n2'].value*self._pdfs['AtmosPDF'][index] + (1 - self._parameters['n2'].value) * self._pdfs['CorsikaPDF'][index])\n",
      "odict_keys(['SignalPDF', 'AtmosPDF', 'CorsikaPDF'])\n",
      "odict_keys(['n1', 'n2'])\n",
      "0.026580931899641575\n"
     ]
    }
   ],
   "source": [
    "print (model.expression)\n",
    "\n",
    "\n",
    "print (model._pdfs.keys())\n",
    "print (model._parameters.keys())\n",
    "\n",
    "\n",
    "print (model[3])"
   ]
  },
  {
   "cell_type": "code",
   "execution_count": 10,
   "metadata": {},
   "outputs": [
    {
     "data": {
      "text/plain": [
       "Text(0, 0.5, 'density')"
      ]
     },
     "execution_count": 10,
     "metadata": {},
     "output_type": "execute_result"
    },
    {
     "data": {
      "image/png": "[encoded data removed]",
      "text/plain": [
       "<Figure size 576x432 with 1 Axes>"
      ]
     },
     "metadata": {
      "needs_background": "light"
     },
     "output_type": "display_data"
    }
   ],
   "source": [
    "fig, ax = plt.subplots(figsize=(8,6))\n",
    "ax.grid()\n",
    "ax.bar(bin_centers, model, width=bin_width)\n",
    "ax.set_xlabel(\"x\")\n",
    "ax.set_ylabel(\"density\")"
   ]
  },
  {
   "cell_type": "code",
   "execution_count": 11,
   "metadata": {},
   "outputs": [
    {
     "data": {
      "text/plain": [
       "{'n1': <modeling.parameter.Parameter at 0x11660a710>,\n",
       " 'n2': <modeling.parameter.Parameter at 0x11660a5d0>}"
      ]
     },
     "execution_count": 11,
     "metadata": {},
     "output_type": "execute_result"
    }
   ],
   "source": [
    "dict( model._parameters.items())"
   ]
  },
  {
   "cell_type": "code",
   "execution_count": 12,
   "metadata": {},
   "outputs": [],
   "source": [
    "def LLH(pars):\n",
    "    model._parameters[\"n1\"].value = pars[0]\n",
    "    model._parameters[\"n2\"].value = pars[1]\n",
    "    \n",
    "    values = [d * np.log(ntotal*model[i])-ntotal*model[i] for i, d in enumerate(data)]\n",
    "      \n",
    "    return -np.sum(values)"
   ]
  },
  {
   "cell_type": "code",
   "execution_count": null,
   "metadata": {},
   "outputs": [],
   "source": []
  },
  {
   "cell_type": "code",
   "execution_count": 50,
   "metadata": {},
   "outputs": [
    {
     "data": {
      "text/plain": [
       "-2697.924391882181"
      ]
     },
     "execution_count": 50,
     "metadata": {},
     "output_type": "execute_result"
    }
   ],
   "source": [
    "LLH([0.2, 0.1])"
   ]
  },
  {
   "cell_type": "code",
   "execution_count": 51,
   "metadata": {},
   "outputs": [
    {
     "name": "stdout",
     "output_type": "stream",
     "text": [
      "['n1', 'n2']\n",
      "[array([0, 1]), array([0, 1])]\n"
     ]
    }
   ],
   "source": [
    "kwds = dict()\n",
    "kwds['errordef']=.5\n",
    "kwds['print_level'] = 2.\n",
    "#print list(model._parameters.keys())\n",
    "names = list(model._parameters.keys())\n",
    "print (names)\n",
    "limits =([par.limits for par in list(model._parameters.values())])\n",
    "\n",
    "print (limits)"
   ]
  },
  {
   "cell_type": "code",
   "execution_count": 52,
   "metadata": {},
   "outputs": [
    {
     "name": "stdout",
     "output_type": "stream",
     "text": [
      "┌──────────────────────────────────┬──────────────────────────────────────┐\n",
      "│ FCN = -2727                      │        Ncalls = 54 (54 total)        │\n",
      "│ EDM = 1.17e-05 (Goal: 0.0001)    │               up = 0.5               │\n",
      "├───────────────┬──────────────────┼──────────────────────────────────────┤\n",
      "│ Valid Minimum │ Valid Parameters │        No Parameters at limit        │\n",
      "├───────────────┴──────────────────┼──────────────────────────────────────┤\n",
      "│ Below EDM threshold (goal x 10)  │           Below call limit           │\n",
      "├───────────────┬──────────────────┼───────────┬─────────────┬────────────┤\n",
      "│   Hesse ok    │  Has Covariance  │ Accurate  │  Pos. def.  │ Not forced │\n",
      "└───────────────┴──────────────────┴───────────┴─────────────┴────────────┘\n"
     ]
    },
    {
     "data": {
      "text/html": [
       "<table>\n",
       "    <tr>\n",
       "        <td colspan=\"2\" style=\"text-align:left\" title=\"Minimum value of function\"> FCN = -2727 </td>\n",
       "        <td colspan=\"3\" style=\"text-align:center\" title=\"No. of calls in last algorithm and total number of calls\"> Ncalls = 54 (54 total) </td>\n",
       "    </tr>\n",
       "    <tr>\n",
       "        <td colspan=\"2\" style=\"text-align:left\" title=\"Estimated distance to minimum and goal\"> EDM = 1.17e-05 (Goal: 0.0001) </td>\n",
       "        <td colspan=\"3\" style=\"text-align:center\" title=\"Increase in FCN which corresponds to 1 standard deviation\"> up = 0.5 </td>\n",
       "    </tr>\n",
       "    <tr>\n",
       "        <td style=\"text-align:center;background-color:#92CCA6;color:black\"> Valid Minimum </td>\n",
       "        <td style=\"text-align:center;background-color:#92CCA6;color:black\"> Valid Parameters </td>\n",
       "        <td colspan=\"3\" style=\"text-align:center;background-color:#92CCA6;color:black\"> No Parameters at limit </td>\n",
       "    </tr>\n",
       "    <tr>\n",
       "        <td colspan=\"2\" style=\"text-align:center;background-color:#92CCA6;color:black\"> Below EDM threshold (goal x 10) </td>\n",
       "        <td colspan=\"3\" style=\"text-align:center;background-color:#92CCA6;color:black\"> Below call limit </td>\n",
       "    </tr>\n",
       "    <tr>\n",
       "        <td style=\"text-align:center;background-color:#92CCA6;color:black\"> Hesse ok </td>\n",
       "        <td style=\"text-align:center;background-color:#92CCA6;color:black\"> Has Covariance </td>\n",
       "        <td style=\"text-align:center;background-color:#92CCA6;color:black\" title=\"Is covariance matrix accurate?\"> Accurate </td>\n",
       "        <td style=\"text-align:center;background-color:#92CCA6;color:black\" title=\"Is covariance matrix positive definite?\"> Pos. def. </td>\n",
       "        <td style=\"text-align:center;background-color:#92CCA6;color:black\" title=\"Was positive definiteness enforced by Minuit?\"> Not forced </td>\n",
       "    </tr>\n",
       "</table><table>\n",
       "    <tr>\n",
       "        <td></td>\n",
       "        <th title=\"Variable name\"> Name </th>\n",
       "        <th title=\"Value of parameter\"> Value </th>\n",
       "        <th title=\"Hesse error\"> Hesse Error </th>\n",
       "        <th title=\"Minos lower error\"> Minos Error- </th>\n",
       "        <th title=\"Minos upper error\"> Minos Error+ </th>\n",
       "        <th title=\"Lower limit of the parameter\"> Limit- </th>\n",
       "        <th title=\"Upper limit of the parameter\"> Limit+ </th>\n",
       "        <th title=\"Is the parameter fixed in the fit\"> Fixed </th>\n",
       "    </tr>\n",
       "    <tr>\n",
       "        <th> 0 </th>\n",
       "        <td> n1 </td>\n",
       "        <td> 0.300 </td>\n",
       "        <td> 0.018 </td>\n",
       "        <td>  </td>\n",
       "        <td>  </td>\n",
       "        <td> 0 </td>\n",
       "        <td> 1 </td>\n",
       "        <td>  </td>\n",
       "    </tr>\n",
       "    <tr>\n",
       "        <th> 1 </th>\n",
       "        <td> n2 </td>\n",
       "        <td> 0.40 </td>\n",
       "        <td> 0.07 </td>\n",
       "        <td>  </td>\n",
       "        <td>  </td>\n",
       "        <td> 0 </td>\n",
       "        <td> 1 </td>\n",
       "        <td>  </td>\n",
       "    </tr>\n",
       "</table>"
      ],
      "text/plain": [
       "┌──────────────────────────────────┬──────────────────────────────────────┐\n",
       "│ FCN = -2727                      │        Ncalls = 54 (54 total)        │\n",
       "│ EDM = 1.17e-05 (Goal: 0.0001)    │               up = 0.5               │\n",
       "├───────────────┬──────────────────┼──────────────────────────────────────┤\n",
       "│ Valid Minimum │ Valid Parameters │        No Parameters at limit        │\n",
       "├───────────────┴──────────────────┼──────────────────────────────────────┤\n",
       "│ Below EDM threshold (goal x 10)  │           Below call limit           │\n",
       "├───────────────┬──────────────────┼───────────┬─────────────┬────────────┤\n",
       "│   Hesse ok    │  Has Covariance  │ Accurate  │  Pos. def.  │ Not forced │\n",
       "└───────────────┴──────────────────┴───────────┴─────────────┴────────────┘\n",
       "┌───┬──────┬───────────┬───────────┬────────────┬────────────┬─────────┬─────────┬───────┐\n",
       "│   │ Name │   Value   │ Hesse Err │ Minos Err- │ Minos Err+ │ Limit-  │ Limit+  │ Fixed │\n",
       "├───┼──────┼───────────┼───────────┼────────────┼────────────┼─────────┼─────────┼───────┤\n",
       "│ 0 │ n1   │   0.300   │   0.018   │            │            │    0    │    1    │       │\n",
       "│ 1 │ n2   │   0.40    │   0.07    │            │            │    0    │    1    │       │\n",
       "└───┴──────┴───────────┴───────────┴────────────┴────────────┴─────────┴─────────┴───────┘"
      ]
     },
     "execution_count": 52,
     "metadata": {},
     "output_type": "execute_result"
    }
   ],
   "source": [
    "m = Minuit.from_array_func(LLH, (0., 0.) , limit=limits, name=names, **kwds)\n",
    "m.migrad()"
   ]
  },
  {
   "cell_type": "code",
   "execution_count": 51,
   "metadata": {},
   "outputs": [
    {
     "data": {
      "text/plain": [
       "<iminuit._libiminuit.Minuit at 0x7facd58e0f90>"
      ]
     },
     "execution_count": 51,
     "metadata": {},
     "output_type": "execute_result"
    }
   ],
   "source": [
    "m"
   ]
  },
  {
   "cell_type": "code",
   "execution_count": 38,
   "metadata": {},
   "outputs": [],
   "source": [
    "__all__ = [\n",
    "    \"Poisson\",\n",
    "    \"Effective\",\n",
    "    \"Poissson_with_signal_sustraction\",\n",
    "    \"Effective_with_signal_sustraction\",\n",
    "]\n",
    "\n",
    "class DMfit:\n",
    "    \"\"\"\"\"\"\n",
    "    def __init__(self, model, **kwargs):\n",
    "        self._model = model\n",
    "        self._meta_data = kwargs.copy()\n",
    "        \n",
    "    @property    \n",
    "    def meta_data(self) -> dict:\n",
    "        return self._meta_data\n",
    "    \n",
    "    def Llh():\n",
    "        model._parameters[\"n1\"].value = pars[0]\n",
    "        model._parameters[\"n2\"].value = pars[1]\n",
    "    \n",
    "        values = [d * np.log(ntotal*model[i])-ntotal*model[i] for i, d in enumerate(data)]\n",
    "      \n",
    "        return -np.sum(values)\n",
    "    \n",
    "    "
   ]
  },
  {
   "cell_type": "code",
   "execution_count": null,
   "metadata": {},
   "outputs": [],
   "source": []
  }
 ],
 "metadata": {
  "hide_input": false,
  "kernelspec": {
   "display_name": "Python 3",
   "language": "python",
   "name": "python3"
  },
  "language_info": {
   "codemirror_mode": {
    "name": "ipython",
    "version": 3
   },
   "file_extension": ".py",
   "mimetype": "text/x-python",
   "name": "python",
   "nbconvert_exporter": "python",
   "pygments_lexer": "ipython3",
   "version": "3.7.7"
  },
  "latex_envs": {
   "bibliofile": "biblio.bib",
   "cite_by": "apalike",
   "current_citInitial": 1,
   "eqLabelWithNumbers": true,
   "eqNumInitial": 0
  }
 },
 "nbformat": 4,
 "nbformat_minor": 4
}

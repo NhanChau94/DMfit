{
 "cells": [
  {
   "cell_type": "code",
   "execution_count": 2,
   "metadata": {},
   "outputs": [],
   "source": [
    "from modeling import PdfBase, Model, Parameter"
   ]
  },
  {
   "cell_type": "code",
   "execution_count": 3,
   "metadata": {},
   "outputs": [],
   "source": [
    "from data import DataSet"
   ]
  },
  {
   "cell_type": "code",
   "execution_count": 4,
   "metadata": {},
   "outputs": [],
   "source": [
    "import numpy as np\n",
    "from iminuit import Minuit\n",
    "\n",
    "\n"
   ]
  },
  {
   "cell_type": "code",
   "execution_count": 5,
   "metadata": {},
   "outputs": [],
   "source": [
    "import matplotlib.pylab as plt\n",
    "data1 = np.random.normal(loc=20,scale=1, size=1000) # 1st gaussian\n",
    "data2 = 30*np.random.random(size=1000) # uniform bkg\n",
    "data3 = np.random.normal(loc=10, scale=10, size=1000) # 2nd gaussian"
   ]
  },
  {
   "cell_type": "code",
   "execution_count": 6,
   "metadata": {},
   "outputs": [
    {
     "data": {
      "image/png": "[encoded data removed]",
      "text/plain": [
       "<Figure size 720x432 with 3 Axes>"
      ]
     },
     "metadata": {
      "needs_background": "light"
     },
     "output_type": "display_data"
    }
   ],
   "source": [
    "fig, axes = plt.subplots(1,3, figsize=(10,6))\n",
    "axes[0].grid()\n",
    "signalPDF, bins, patch = axes[0].hist(data1, bins = 30, range=(0,30), density=True)\n",
    "axes[0].set_xlabel(\"x\")\n",
    "axes[0].set_ylabel(\"counts\")\n",
    "\n",
    "bkgPDF, bins, patch = axes[1].hist(data2, bins = 30, range=(0,30), density=True)\n",
    "axes[1].grid()\n",
    "axes[1].set_xlabel(\"x\")\n",
    "axes[1].set_ylabel(\"counts\")\n",
    "\n",
    "bkgPDF2, bins, patch = axes[2].hist(data3, bins = 30, range=(0,30), density=True)\n",
    "axes[2].grid()\n",
    "axes[2].set_xlabel(\"x\")\n",
    "axes[2].set_ylabel(\"counts\")\n",
    "\n",
    "plt.show()\n",
    "ntotal = 1000\n",
    "nsig = 0.3 #signal\n",
    "n1 =  0.4 #First background component.\n",
    "#third is n2 = 1 - nsig - n1\n",
    "\n",
    "data = ntotal * (nsig * signalPDF + (1 - nsig) * ( (n1* bkgPDF + (1 - n1)* bkgPDF2)))"
   ]
  },
  {
   "cell_type": "code",
   "execution_count": 7,
   "metadata": {},
   "outputs": [
    {
     "name": "stdout",
     "output_type": "stream",
     "text": [
      "[ 27.04450428  24.99265606  28.30673195  31.06080783  23.58820073\n",
      "  20.97189718  29.05488372  30.87711138  32.23118727  29.8030355\n",
      "  30.26673195  36.81194614  28.91265606  24.75858017  29.8030355\n",
      "  30.68895961  21.86227662  31.76227662  59.42820073 118.17929009\n",
      " 125.82966952  62.19336597  21.78891065  17.8452142   16.71706242\n",
      "  12.2326071   13.77483476  16.4326071   11.57630355  11.20445532]\n"
     ]
    },
    {
     "data": {
      "text/plain": [
       "Text(0, 0.5, 'density')"
      ]
     },
     "execution_count": 7,
     "metadata": {},
     "output_type": "execute_result"
    },
    {
     "data": {
      "image/png": "[encoded data removed]",
      "text/plain": [
       "<Figure size 576x432 with 1 Axes>"
      ]
     },
     "metadata": {
      "needs_background": "light"
     },
     "output_type": "display_data"
    }
   ],
   "source": [
    "bin_width = np.diff(bins)[0]\n",
    "bin_centers = bins[:-1] + bin_width/2.\n",
    "\n",
    "print (data)\n",
    "fig, ax = plt.subplots(figsize=(8,6))\n",
    "ax.grid()\n",
    "ax.bar(bin_centers, data,width=bin_width)\n",
    "ax.set_xlabel(\"x\")\n",
    "ax.set_ylabel(\"density\")"
   ]
  },
  {
   "cell_type": "code",
   "execution_count": 8,
   "metadata": {},
   "outputs": [
    {
     "name": "stdout",
     "output_type": "stream",
     "text": [
      "Parameter n2 already exists in the model, it won't be added again\n",
      "Parameter n1 already exists in the model, it won't be added again\n"
     ]
    }
   ],
   "source": [
    "#from pdf.pdf import PdfBase\n",
    "\n",
    "SignalPDF = PdfBase(signalPDF, name=\"SignalPDF\")\n",
    "AtmosPDF = PdfBase(bkgPDF, name=\"AtmosPDF\")\n",
    "CorsikaPDF = PdfBase(bkgPDF2, name=\"CorsikaPDF\")\n",
    "\n",
    "sigfrac = Parameter(value=0.3, limits=(0,1), fixed=False, name=\"n1\")\n",
    "sigatmos_frac = Parameter(value=0.4, limits=(0,1), fixed=False, name=\"n2\")\n",
    "\n",
    "\n",
    "#data = ntotal * (nsig * signalPDF + (1 - nsig) * ( (n1* bkgPDF + (1 - n1)* bkgPDF2)))\n",
    "\n",
    "#model = sigfrac * SignalPDF  + (sigatmos_frac * AtmosPDF + CorsikaPDF - sigatmos_frac * CorsikaPDF) - sigfrac * (sigatmos_frac * AtmosPDF) -  sigfrac * CorsikaPDF + sigfrac * (sigatmos_frac * CorsikaPDF)  \n",
    "\n",
    "model = sigfrac * SignalPDF  + (1 - sigfrac) * ( sigatmos_frac * AtmosPDF + ( 1 - sigatmos_frac)* CorsikaPDF)\n",
    "\n",
    "#model = ( 1 - sigatmos_frac) * CorsikaPDF"
   ]
  },
  {
   "cell_type": "code",
   "execution_count": 9,
   "metadata": {},
   "outputs": [
    {
     "data": {
      "text/plain": [
       "[0,\n",
       " 0,\n",
       " 0,\n",
       " 0,\n",
       " 0,\n",
       " 0,\n",
       " 0,\n",
       " 0,\n",
       " 0,\n",
       " 0,\n",
       " 0,\n",
       " 0,\n",
       " 0,\n",
       " 0,\n",
       " 0,\n",
       " 0,\n",
       " 0,\n",
       " 0,\n",
       " 0,\n",
       " 0,\n",
       " 0,\n",
       " 0,\n",
       " 0,\n",
       " 0,\n",
       " 0,\n",
       " 0,\n",
       " 0,\n",
       " 0,\n",
       " 0,\n",
       " 0]"
      ]
     },
     "execution_count": 9,
     "metadata": {},
     "output_type": "execute_result"
    }
   ],
   "source": [
    "list(map(np.random.poisson, model))"
   ]
  },
  {
   "cell_type": "code",
   "execution_count": 10,
   "metadata": {},
   "outputs": [
    {
     "name": "stdout",
     "output_type": "stream",
     "text": [
      " Model: n1*SignalPDF + (1-n1)*(n2*AtmosPDF + (1-n2) * CorsikaPDF)\n",
      " Number of pdf: 3\n",
      " - SignalPDF\n",
      " - AtmosPDF\n",
      " - CorsikaPDF\n",
      " Number of parameters: 2\n",
      " - n1, limits = (0,1),  Is it Fixed? False\n",
      " - n2, limits = (0,1),  Is it Fixed? False\n"
     ]
    }
   ],
   "source": [
    "print (model)"
   ]
  },
  {
   "cell_type": "code",
   "execution_count": 11,
   "metadata": {},
   "outputs": [
    {
     "name": "stdout",
     "output_type": "stream",
     "text": [
      "self._parameters['n1'].value*self._pdfs['SignalPDF'][index] + (1 - self._parameters['n1'].value) * (self._parameters['n2'].value*self._pdfs['AtmosPDF'][index] + (1 - self._parameters['n2'].value) * self._pdfs['CorsikaPDF'][index])\n",
      "odict_keys(['SignalPDF', 'AtmosPDF', 'CorsikaPDF'])\n",
      "odict_keys(['n1', 'n2'])\n",
      "0.03106080783353733\n"
     ]
    }
   ],
   "source": [
    "print (model.expression)\n",
    "\n",
    "\n",
    "print (model._pdfs.keys())\n",
    "print (model._parameters.keys())\n",
    "\n",
    "\n",
    "print (model[3])"
   ]
  },
  {
   "cell_type": "code",
   "execution_count": 12,
   "metadata": {},
   "outputs": [
    {
     "data": {
      "text/plain": [
       "Text(0, 0.5, 'density')"
      ]
     },
     "execution_count": 12,
     "metadata": {},
     "output_type": "execute_result"
    },
    {
     "data": {
      "image/png": "[encoded data removed]",
      "text/plain": [
       "<Figure size 576x432 with 1 Axes>"
      ]
     },
     "metadata": {
      "needs_background": "light"
     },
     "output_type": "display_data"
    }
   ],
   "source": [
    "fig, ax = plt.subplots(figsize=(8,6))\n",
    "ax.grid()\n",
    "ax.bar(bin_centers, model, width=bin_width)\n",
    "ax.set_xlabel(\"x\")\n",
    "ax.set_ylabel(\"density\")"
   ]
  },
  {
   "cell_type": "code",
   "execution_count": 13,
   "metadata": {},
   "outputs": [
    {
     "data": {
      "text/plain": [
       "{'n1': <modeling.parameter.Parameter at 0x115bc8550>,\n",
       " 'n2': <modeling.parameter.Parameter at 0x115bc8e10>}"
      ]
     },
     "execution_count": 13,
     "metadata": {},
     "output_type": "execute_result"
    }
   ],
   "source": [
    "dict( model._parameters.items())"
   ]
  },
  {
   "cell_type": "code",
   "execution_count": 14,
   "metadata": {},
   "outputs": [],
   "source": [
    "def LLH(pars):\n",
    "    model._parameters[\"n1\"].value = pars[0]\n",
    "    model._parameters[\"n2\"].value = pars[1]\n",
    "    \n",
    "    values = [d * np.log(ntotal*model[i])-ntotal*model[i] for i, d in enumerate(data)]\n",
    "      \n",
    "    return -np.sum(values)"
   ]
  },
  {
   "cell_type": "code",
   "execution_count": null,
   "metadata": {},
   "outputs": [],
   "source": []
  },
  {
   "cell_type": "code",
   "execution_count": 15,
   "metadata": {},
   "outputs": [
    {
     "data": {
      "text/plain": [
       "-2697.140119558787"
      ]
     },
     "execution_count": 15,
     "metadata": {},
     "output_type": "execute_result"
    }
   ],
   "source": [
    "LLH([0.2, 0.1])"
   ]
  },
  {
   "cell_type": "code",
   "execution_count": 16,
   "metadata": {},
   "outputs": [
    {
     "name": "stdout",
     "output_type": "stream",
     "text": [
      "['n1', 'n2']\n",
      "[array([0, 1]), array([0, 1])]\n"
     ]
    }
   ],
   "source": [
    "kwds = dict()\n",
    "kwds['errordef']=.5\n",
    "kwds['print_level'] = 2.\n",
    "#print list(model._parameters.keys())\n",
    "names = list(model._parameters.keys())\n",
    "print (names)\n",
    "limits =([par.limits for par in list(model._parameters.values())])\n",
    "\n",
    "print (limits)"
   ]
  },
  {
   "cell_type": "markdown",
   "metadata": {},
   "source": [
    "m = Minuit.from_array_func(LLH, (0., 0.) , limit=limits, name=names, **kwds)\n",
    "m.migrad()"
   ]
  },
  {
   "cell_type": "code",
   "execution_count": 18,
   "metadata": {},
   "outputs": [
    {
     "data": {
      "text/plain": [
       "<iminuit._libiminuit.Minuit at 0x7f7f3af88770>"
      ]
     },
     "execution_count": 18,
     "metadata": {},
     "output_type": "execute_result"
    }
   ],
   "source": [
    "m"
   ]
  },
  {
   "cell_type": "code",
   "execution_count": 19,
   "metadata": {},
   "outputs": [],
   "source": [
    "from data import DataSet"
   ]
  },
  {
   "cell_type": "code",
   "execution_count": 20,
   "metadata": {},
   "outputs": [
    {
     "data": {
      "text/plain": [
       "Text(0, 0.5, 'density')"
      ]
     },
     "execution_count": 20,
     "metadata": {},
     "output_type": "execute_result"
    },
    {
     "data": {
      "image/png": "[encoded data removed]",
      "text/plain": [
       "<Figure size 576x432 with 1 Axes>"
      ]
     },
     "metadata": {
      "needs_background": "light"
     },
     "output_type": "display_data"
    }
   ],
   "source": [
    "ds = DataSet()\n",
    "ds.values = data\n",
    "model._parameters[\"n1\"].value = 0.30\n",
    "#print (model[:])\n",
    "ds.residuals(model)\n",
    "\n",
    "\n",
    "fig, ax = plt.subplots(figsize=(8,6))\n",
    "ax.grid()\n",
    "ax.bar(bin_centers, ds.values, width=bin_width)\n",
    "ax.set_xlabel(\"x\")\n",
    "ax.set_ylabel(\"density\")"
   ]
  },
  {
   "cell_type": "code",
   "execution_count": 22,
   "metadata": {},
   "outputs": [
    {
     "ename": "TypeError",
     "evalue": "'<' not supported between instances of 'list' and 'int'",
     "output_type": "error",
     "traceback": [
      "\u001b[0;31m---------------------------------------------------------------------------\u001b[0m",
      "\u001b[0;31mTypeError\u001b[0m                                 Traceback (most recent call last)",
      "\u001b[0;32m<ipython-input-22-d222cefbba23>\u001b[0m in \u001b[0;36m<module>\u001b[0;34m\u001b[0m\n\u001b[1;32m      1\u001b[0m \u001b[0;31m#model._parameters['n1'].value = 0.3\u001b[0m\u001b[0;34m\u001b[0m\u001b[0;34m\u001b[0m\u001b[0;34m\u001b[0m\u001b[0m\n\u001b[0;32m----> 2\u001b[0;31m \u001b[0mds\u001b[0m\u001b[0;34m.\u001b[0m\u001b[0msample\u001b[0m\u001b[0;34m(\u001b[0m\u001b[0mmodel\u001b[0m\u001b[0;34m)\u001b[0m\u001b[0;34m\u001b[0m\u001b[0;34m\u001b[0m\u001b[0m\n\u001b[0m\u001b[1;32m      3\u001b[0m \u001b[0mprint\u001b[0m \u001b[0;34m(\u001b[0m\u001b[0mds\u001b[0m\u001b[0;34m)\u001b[0m\u001b[0;34m\u001b[0m\u001b[0;34m\u001b[0m\u001b[0m\n",
      "\u001b[0;32m~/workspace/DMfit/DMfit/data/dataset.py\u001b[0m in \u001b[0;36msample\u001b[0;34m(self, model)\u001b[0m\n\u001b[1;32m     76\u001b[0m     \u001b[0;32mdef\u001b[0m \u001b[0msample\u001b[0m\u001b[0;34m(\u001b[0m\u001b[0mself\u001b[0m\u001b[0;34m,\u001b[0m \u001b[0mmodel\u001b[0m\u001b[0;34m)\u001b[0m\u001b[0;34m:\u001b[0m\u001b[0;34m\u001b[0m\u001b[0;34m\u001b[0m\u001b[0m\n\u001b[1;32m     77\u001b[0m         \u001b[0;34m\"Makes a pseudo sample\"\u001b[0m\u001b[0;34m\u001b[0m\u001b[0;34m\u001b[0m\u001b[0m\n\u001b[0;32m---> 78\u001b[0;31m         \u001b[0mself\u001b[0m\u001b[0;34m.\u001b[0m\u001b[0mvalues\u001b[0m \u001b[0;34m=\u001b[0m \u001b[0mlist\u001b[0m\u001b[0;34m(\u001b[0m\u001b[0mmap\u001b[0m\u001b[0;34m(\u001b[0m\u001b[0mnp\u001b[0m\u001b[0;34m.\u001b[0m\u001b[0mrandom\u001b[0m\u001b[0;34m.\u001b[0m\u001b[0mpoisson\u001b[0m\u001b[0;34m,\u001b[0m \u001b[0mself\u001b[0m\u001b[0;34m.\u001b[0m\u001b[0mntotal\u001b[0m \u001b[0;34m*\u001b[0m \u001b[0mmodel\u001b[0m\u001b[0;34m)\u001b[0m\u001b[0;34m)\u001b[0m\u001b[0;34m\u001b[0m\u001b[0;34m\u001b[0m\u001b[0m\n\u001b[0m\u001b[1;32m     79\u001b[0m \u001b[0;34m\u001b[0m\u001b[0m\n\u001b[1;32m     80\u001b[0m \u001b[0;34m\u001b[0m\u001b[0m\n",
      "\u001b[0;32m~/workspace/DMfit/DMfit/data/dataset.py\u001b[0m in \u001b[0;36mvalues\u001b[0;34m(self, values)\u001b[0m\n\u001b[1;32m     34\u001b[0m     \u001b[0;34m@\u001b[0m\u001b[0mvalues\u001b[0m\u001b[0;34m.\u001b[0m\u001b[0msetter\u001b[0m\u001b[0;34m\u001b[0m\u001b[0;34m\u001b[0m\u001b[0m\n\u001b[1;32m     35\u001b[0m     \u001b[0;32mdef\u001b[0m \u001b[0mvalues\u001b[0m\u001b[0;34m(\u001b[0m\u001b[0mself\u001b[0m\u001b[0;34m,\u001b[0m \u001b[0mvalues\u001b[0m\u001b[0;34m:\u001b[0m \u001b[0mnp\u001b[0m\u001b[0;34m.\u001b[0m\u001b[0mndarray\u001b[0m\u001b[0;34m)\u001b[0m \u001b[0;34m->\u001b[0m \u001b[0;32mNone\u001b[0m\u001b[0;34m:\u001b[0m\u001b[0;34m\u001b[0m\u001b[0;34m\u001b[0m\u001b[0m\n\u001b[0;32m---> 36\u001b[0;31m         \u001b[0;32mif\u001b[0m \u001b[0mnp\u001b[0m\u001b[0;34m.\u001b[0m\u001b[0many\u001b[0m\u001b[0;34m(\u001b[0m\u001b[0mvalues\u001b[0m \u001b[0;34m<\u001b[0m \u001b[0;36m0\u001b[0m\u001b[0;34m)\u001b[0m\u001b[0;34m:\u001b[0m\u001b[0;34m\u001b[0m\u001b[0;34m\u001b[0m\u001b[0m\n\u001b[0m\u001b[1;32m     37\u001b[0m             \u001b[0;32mraise\u001b[0m \u001b[0mValueError\u001b[0m\u001b[0;34m(\u001b[0m\u001b[0;34m\"Cannot have negative values in the pdf.\"\u001b[0m\u001b[0;34m)\u001b[0m\u001b[0;34m\u001b[0m\u001b[0;34m\u001b[0m\u001b[0m\n\u001b[1;32m     38\u001b[0m         \u001b[0mself\u001b[0m\u001b[0;34m.\u001b[0m\u001b[0m_values\u001b[0m \u001b[0;34m=\u001b[0m \u001b[0mnp\u001b[0m\u001b[0;34m.\u001b[0m\u001b[0masarray\u001b[0m\u001b[0;34m(\u001b[0m\u001b[0mvalues\u001b[0m\u001b[0;34m)\u001b[0m\u001b[0;34m\u001b[0m\u001b[0;34m\u001b[0m\u001b[0m\n",
      "\u001b[0;31mTypeError\u001b[0m: '<' not supported between instances of 'list' and 'int'"
     ]
    }
   ],
   "source": [
    "#model._parameters['n1'].value = 0.3\n",
    "ds.sample(model)\n",
    "print (ds)\n"
   ]
  },
  {
   "cell_type": "code",
   "execution_count": 21,
   "metadata": {},
   "outputs": [
    {
     "data": {
      "text/plain": [
       "Text(0, 0.5, 'density')"
      ]
     },
     "execution_count": 21,
     "metadata": {},
     "output_type": "execute_result"
    },
    {
     "data": {
      "image/png": "[encoded data removed]",
      "text/plain": [
       "<Figure size 576x432 with 1 Axes>"
      ]
     },
     "metadata": {
      "needs_background": "light"
     },
     "output_type": "display_data"
    }
   ],
   "source": [
    "fig, ax = plt.subplots(figsize=(8,6))\n",
    "ax.grid()\n",
    "ax.bar(bin_centers, ds.values, width=bin_width)\n",
    "ax.set_xlabel(\"x\")\n",
    "ax.set_ylabel(\"density\")"
   ]
  },
  {
   "cell_type": "code",
   "execution_count": 22,
   "metadata": {},
   "outputs": [
    {
     "data": {
      "text/plain": [
       "Text(0, 0.5, 'counts')"
      ]
     },
     "execution_count": 22,
     "metadata": {},
     "output_type": "execute_result"
    },
    {
     "data": {
      "image/png": "[encoded data removed]",
      "text/plain": [
       "<Figure size 432x288 with 1 Axes>"
      ]
     },
     "metadata": {
      "needs_background": "light"
     },
     "output_type": "display_data"
    }
   ],
   "source": [
    "    \n",
    "#eventlist = np.random.choice(np.arange(0, len(model)), ntotal, p=model[:])\n",
    "\n",
    "\n",
    "fig, ax = plt.subplots(1, 1)\n",
    "ax.grid()\n",
    "ax.set_xlabel(\"x\")\n",
    "ax.set_ylabel(\"counts\")\n",
    "\n",
    "    "
   ]
  },
  {
   "cell_type": "code",
   "execution_count": 23,
   "metadata": {},
   "outputs": [
    {
     "ename": "SyntaxError",
     "evalue": "invalid syntax (<ipython-input-23-c1e83ca9a710>, line 1)",
     "output_type": "error",
     "traceback": [
      "\u001b[0;36m  File \u001b[0;32m\"<ipython-input-23-c1e83ca9a710>\"\u001b[0;36m, line \u001b[0;32m1\u001b[0m\n\u001b[0;31m    [p.value = pars[0] for p in iter(model._parameters.values())]\u001b[0m\n\u001b[0m             ^\u001b[0m\n\u001b[0;31mSyntaxError\u001b[0m\u001b[0;31m:\u001b[0m invalid syntax\n"
     ]
    }
   ],
   "source": [
    "\n",
    "[p.value = pars[0] for p in iter(model._parameters.values())]\n",
    "\n"
   ]
  },
  {
   "cell_type": "code",
   "execution_count": 78,
   "metadata": {},
   "outputs": [],
   "source": [
    "LIKELIHOODS = [\"Poisson\", \"Effective\"]\n",
    "class LikelihoodRatioTest:\n",
    "    \"\"\"\"\"\"\n",
    "    \n",
    "    \n",
    "    def __init__(self, model, null_model = None, llh_type = \"Poisson\", data = None, **kwargs):\n",
    "        self._model = model\n",
    "        self.llh_type = llh_type\n",
    "        self._meta_data = kwargs.copy()\n",
    "        self._data = data\n",
    "        \n",
    "        if null_model is not None:\n",
    "            self._null_model = null_model\n",
    "            \n",
    "        \n",
    "    @property    \n",
    "    def meta_data(self) -> dict:\n",
    "        return self._meta_data\n",
    "\n",
    "    @property\n",
    "    def data(self) -> DataSet:\n",
    "        if self._data is not None:\n",
    "            return self._data\n",
    "        else:\n",
    "            raise ValueError(\"Data has not been loaded yet!\")\n",
    "            \n",
    "    @data.setter\n",
    "    def data(self, value: DataSet):\n",
    "        self._data = value\n",
    "    \n",
    "\n",
    "    @property\n",
    "    def llh_type(self) -> str:\n",
    "        return self._llh_type\n",
    "    \n",
    "    @llh_type.setter\n",
    "    def llh_type(self, value: str):\n",
    "        if value in LIKELIHOODS:\n",
    "            self._llh_type = value\n",
    "        else:\n",
    "            print(\"Likelihood type {} is not implented, available likelihoods are {}\".format(value, LIKELIHOODS))\n",
    "    \n",
    "    \n",
    "    \n",
    "    def evaluate(*pars):\n",
    "        \n",
    "        self._model._parameters[\"n1\"].value = pars[0]\n",
    "        self._model._parameters[\"n2\"].value = pars[1]\n",
    "    \n",
    "        values = [d * np.log(ntotal*self._model[i])-ntotal*self._model[i] for i, d in enumerate(data)]\n",
    "      \n",
    "        return -np.sum(values)\n",
    "    \n",
    "    "
   ]
  },
  {
   "cell_type": "code",
   "execution_count": 79,
   "metadata": {},
   "outputs": [],
   "source": [
    "dm = LikelihoodRatioTest(model, llh_type = \"Poisson\")"
   ]
  },
  {
   "cell_type": "code",
   "execution_count": 80,
   "metadata": {},
   "outputs": [],
   "source": [
    "dm.data = data"
   ]
  },
  {
   "cell_type": "code",
   "execution_count": 81,
   "metadata": {},
   "outputs": [
    {
     "data": {
      "text/plain": [
       "30"
      ]
     },
     "execution_count": 81,
     "metadata": {},
     "output_type": "execute_result"
    }
   ],
   "source": [
    "len(dm.data)"
   ]
  },
  {
   "cell_type": "code",
   "execution_count": null,
   "metadata": {},
   "outputs": [],
   "source": []
  }
 ],
 "metadata": {
  "hide_input": false,
  "kernelspec": {
   "display_name": "Python 3",
   "language": "python",
   "name": "python3"
  },
  "language_info": {
   "codemirror_mode": {
    "name": "ipython",
    "version": 3
   },
   "file_extension": ".py",
   "mimetype": "text/x-python",
   "name": "python",
   "nbconvert_exporter": "python",
   "pygments_lexer": "ipython3",
   "version": "3.7.7"
  },
  "latex_envs": {
   "bibliofile": "biblio.bib",
   "cite_by": "apalike",
   "current_citInitial": 1,
   "eqLabelWithNumbers": true,
   "eqNumInitial": 0
  }
 },
 "nbformat": 4,
 "nbformat_minor": 4
}

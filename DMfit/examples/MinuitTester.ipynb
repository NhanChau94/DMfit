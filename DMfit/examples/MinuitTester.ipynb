{
 "cells": [
  {
   "cell_type": "code",
   "execution_count": 1,
   "metadata": {},
   "outputs": [],
   "source": [
    "import numpy as np\n",
    "from iminuit import Minuit\n"
   ]
  },
  {
   "cell_type": "code",
   "execution_count": 2,
   "metadata": {},
   "outputs": [],
   "source": [
    "import matplotlib.pylab as plt\n",
    "data1 = np.random.normal(loc=20,scale=1, size=1000) # 1st gaussian\n",
    "data2 = 30*np.random.random(size=1000) # uniform bkg\n",
    "data3 = np.random.normal(loc=10, scale=10, size=1000) # 2nd gaussian"
   ]
  },
  {
   "cell_type": "code",
   "execution_count": 3,
   "metadata": {},
   "outputs": [
    {
     "data": {
      "image/png": "[encoded data removed]",
      "text/plain": [
       "<Figure size 720x432 with 3 Axes>"
      ]
     },
     "metadata": {
      "needs_background": "light"
     },
     "output_type": "display_data"
    }
   ],
   "source": [
    "fig, axes = plt.subplots(1,3, figsize=(10,6))\n",
    "axes[0].grid()\n",
    "signalPDF, bins, patch = axes[0].hist(data1, bins = 30, range=(0,30), density=True)\n",
    "axes[0].set_xlabel(\"x\")\n",
    "axes[0].set_ylabel(\"counts\")\n",
    "\n",
    "bkgPDF, bins, patch = axes[1].hist(data2, bins = 30, range=(0,30), density=True)\n",
    "axes[1].grid()\n",
    "axes[1].set_xlabel(\"x\")\n",
    "axes[1].set_ylabel(\"counts\")\n",
    "\n",
    "bkgPDF2, bins, patch = axes[2].hist(data3, bins = 30, range=(0,30), density=True)\n",
    "axes[2].grid()\n",
    "axes[2].set_xlabel(\"x\")\n",
    "axes[2].set_ylabel(\"counts\")\n",
    "\n",
    "plt.show()\n",
    "ntotal = 1000\n",
    "nsig = 0.3 #signal\n",
    "n1 =  0.4 #First background component.\n",
    "#third is n2 = 1 - nsig - n1\n",
    "\n",
    "data = ntotal * (nsig * signalPDF + (1 - nsig) * ( (n1* bkgPDF + (1 - n1)* bkgPDF2)))"
   ]
  },
  {
   "cell_type": "code",
   "execution_count": 4,
   "metadata": {},
   "outputs": [
    {
     "name": "stdout",
     "output_type": "stream",
     "text": [
      "[ 23.82793349  18.06099762  21.68437055  24.11724466  27.2584323\n",
      "  26.29605701  31.49368171  33.68180523  27.01368171  33.08655582\n",
      "  30.25130641  34.39011876  28.47486936  30.49605701  22.58555819\n",
      "  27.87961995  21.10912114  38.01011876  77.68536817 124.75030879\n",
      " 109.55505938  65.57980998  26.84674584  15.42337292  12.54812352\n",
      "  13.82574822  15.06812352  15.96931116  11.67287411  11.3576247 ]\n"
     ]
    },
    {
     "data": {
      "text/plain": [
       "Text(0, 0.5, 'density')"
      ]
     },
     "execution_count": 4,
     "metadata": {},
     "output_type": "execute_result"
    },
    {
     "data": {
      "image/png": "[encoded data removed]",
      "text/plain": [
       "<Figure size 576x432 with 1 Axes>"
      ]
     },
     "metadata": {
      "needs_background": "light"
     },
     "output_type": "display_data"
    }
   ],
   "source": [
    "bin_width = np.diff(bins)[0]\n",
    "bin_centers = bins[:-1] + bin_width/2.\n",
    "\n",
    "print (data)\n",
    "fig, ax = plt.subplots(figsize=(8,6))\n",
    "ax.grid()\n",
    "ax.bar(bin_centers, data,width=bin_width)\n",
    "ax.set_xlabel(\"x\")\n",
    "ax.set_ylabel(\"density\")"
   ]
  },
  {
   "cell_type": "code",
   "execution_count": 5,
   "metadata": {},
   "outputs": [],
   "source": [
    "from pdf.pdf import PdfBase, Model\n",
    "from pdf.parameter import Parameter"
   ]
  },
  {
   "cell_type": "code",
   "execution_count": 6,
   "metadata": {},
   "outputs": [
    {
     "name": "stdout",
     "output_type": "stream",
     "text": [
      "Parameter atmosfrac already exists in the model!\n",
      "PDF AtmosPDF already exists in the model!\n",
      "Parameter atmosfrac already exists in the model!\n",
      "Parameter sigfrac already exists in the model!\n",
      "PDF CorsikaPDF already exists in the model!\n",
      "Parameter sigfrac already exists in the model!\n",
      "PDF CorsikaPDF already exists in the model!\n",
      "Parameter atmosfrac already exists in the model!\n",
      "Parameter sigfrac already exists in the model!\n"
     ]
    }
   ],
   "source": [
    "#from pdf.pdf import PdfBase\n",
    "\n",
    "SignalPDF = PdfBase(signalPDF, name=\"SignalPDF\")\n",
    "AtmosPDF = PdfBase(bkgPDF, name=\"AtmosPDF\")\n",
    "CorsikaPDF = PdfBase(bkgPDF2, name=\"CorsikaPDF\")\n",
    "\n",
    "sigfrac = Parameter(value=0.3, limits=(0,1), fixed=False, name=\"sigfrac\")\n",
    "sigatmos_frac = Parameter(value=0.4, limits=(0,1), fixed=False, name=\"atmosfrac\")\n",
    "\n",
    "\n",
    "data = ntotal * (nsig * signalPDF + (1 - nsig) * ( (n1* bkgPDF + (1 - n1)* bkgPDF2)))\n",
    "\n",
    "model = sigfrac * SignalPDF  + (sigatmos_frac * AtmosPDF + CorsikaPDF - sigatmos_frac * CorsikaPDF) - sigfrac * (sigatmos_frac * AtmosPDF) -  sigfrac * CorsikaPDF + sigfrac * (sigatmos_frac * CorsikaPDF)  \n",
    "\n",
    "#model = sigfrac * (sigatmos_frac * AtmosPDF)"
   ]
  },
  {
   "cell_type": "code",
   "execution_count": 7,
   "metadata": {},
   "outputs": [
    {
     "name": "stdout",
     "output_type": "stream",
     "text": [
      "self._parameters['sigfrac'].value*self._pdfs['SignalPDF'][index] + self._parameters['atmosfrac'].value*self._pdfs['AtmosPDF'][index] + self._pdfs['CorsikaPDF'][index] - self._parameters['atmosfrac'].value*self._pdfs['CorsikaPDF'][index] - self._parameters['sigfrac'].value * self._parameters['atmosfrac'].value*self._pdfs['AtmosPDF'][index] - self._parameters['sigfrac'].value*self._pdfs['CorsikaPDF'][index] + self._parameters['sigfrac'].value * self._parameters['atmosfrac'].value*self._pdfs['CorsikaPDF'][index]\n",
      "odict_keys(['SignalPDF', 'AtmosPDF', 'CorsikaPDF'])\n",
      "odict_keys(['sigfrac', 'atmosfrac'])\n"
     ]
    },
    {
     "data": {
      "text/plain": [
       "pdf.parameter.Parameter"
      ]
     },
     "execution_count": 7,
     "metadata": {},
     "output_type": "execute_result"
    }
   ],
   "source": [
    "print (model.expression)\n",
    "print (model._pdfs.keys())\n",
    "print (model._parameters.keys())\n",
    "\n",
    "type(model._parameters[\"sigfrac\"])"
   ]
  },
  {
   "cell_type": "code",
   "execution_count": 8,
   "metadata": {},
   "outputs": [
    {
     "data": {
      "text/plain": [
       "Text(0, 0.5, 'density')"
      ]
     },
     "execution_count": 8,
     "metadata": {},
     "output_type": "execute_result"
    },
    {
     "data": {
      "image/png": "[encoded data removed]",
      "text/plain": [
       "<Figure size 576x432 with 1 Axes>"
      ]
     },
     "metadata": {
      "needs_background": "light"
     },
     "output_type": "display_data"
    }
   ],
   "source": [
    "fig, ax = plt.subplots(figsize=(8,6))\n",
    "ax.grid()\n",
    "ax.bar(bin_centers, model, width=bin_width)\n",
    "ax.set_xlabel(\"x\")\n",
    "ax.set_ylabel(\"density\")"
   ]
  },
  {
   "cell_type": "code",
   "execution_count": 27,
   "metadata": {},
   "outputs": [],
   "source": [
    "def LLH(pars):\n",
    "    model._parameters[\"sigfrac\"].value = pars[0]\n",
    "    model._parameters[\"atmosfrac\"].value = pars[1]\n",
    "    \n",
    "    values = [d * np.log(ntotal*model[i])-ntotal*model[i] for i, d in enumerate(data)]\n",
    "      \n",
    "    return -np.sum(values)"
   ]
  },
  {
   "cell_type": "code",
   "execution_count": 28,
   "metadata": {},
   "outputs": [
    {
     "data": {
      "text/plain": [
       "pdf.parameter.Parameter"
      ]
     },
     "execution_count": 28,
     "metadata": {},
     "output_type": "execute_result"
    }
   ],
   "source": [
    "type(model._parameters[\"sigfrac\"])"
   ]
  },
  {
   "cell_type": "code",
   "execution_count": 29,
   "metadata": {},
   "outputs": [
    {
     "data": {
      "text/plain": [
       "-2655.6774565478077"
      ]
     },
     "execution_count": 29,
     "metadata": {},
     "output_type": "execute_result"
    }
   ],
   "source": [
    "evaluateLLH([0.1, 0.2])"
   ]
  },
  {
   "cell_type": "code",
   "execution_count": 30,
   "metadata": {},
   "outputs": [
    {
     "name": "stdout",
     "output_type": "stream",
     "text": [
      "['sigfrac', 'atmosfrac']\n",
      "[array([0, 1]), array([0, 1])]\n"
     ]
    }
   ],
   "source": [
    "kwds = dict()\n",
    "kwds['errordef']=.5\n",
    "kwds['print_level'] = 2.\n",
    "#print list(model._parameters.keys())\n",
    "names = list(model._parameters.keys())\n",
    "print (names)\n",
    "limits =([par.limits for par in list(model._parameters.values())])\n",
    "\n",
    "print (limits)"
   ]
  },
  {
   "cell_type": "code",
   "execution_count": 31,
   "metadata": {},
   "outputs": [
    {
     "name": "stdout",
     "output_type": "stream",
     "text": [
      "┌──────────────────────────────────┬──────────────────────────────────────┐\n",
      "│ FCN = -2739                      │        Ncalls = 57 (57 total)        │\n",
      "│ EDM = 2.8e-08 (Goal: 0.0001)     │               up = 0.5               │\n",
      "├───────────────┬──────────────────┼──────────────────────────────────────┤\n",
      "│ Valid Minimum │ Valid Parameters │        No Parameters at limit        │\n",
      "├───────────────┴──────────────────┼──────────────────────────────────────┤\n",
      "│ Below EDM threshold (goal x 10)  │           Below call limit           │\n",
      "├───────────────┬──────────────────┼───────────┬─────────────┬────────────┤\n",
      "│   Hesse ok    │  Has Covariance  │ Accurate  │  Pos. def.  │ Not forced │\n",
      "└───────────────┴──────────────────┴───────────┴─────────────┴────────────┘\n"
     ]
    },
    {
     "data": {
      "text/html": [
       "<table>\n",
       "    <tr>\n",
       "        <td colspan=\"2\" style=\"text-align:left\" title=\"Minimum value of function\"> FCN = -2739 </td>\n",
       "        <td colspan=\"3\" style=\"text-align:center\" title=\"No. of calls in last algorithm and total number of calls\"> Ncalls = 57 (57 total) </td>\n",
       "    </tr>\n",
       "    <tr>\n",
       "        <td colspan=\"2\" style=\"text-align:left\" title=\"Estimated distance to minimum and goal\"> EDM = 2.8e-08 (Goal: 0.0001) </td>\n",
       "        <td colspan=\"3\" style=\"text-align:center\" title=\"Increase in FCN which corresponds to 1 standard deviation\"> up = 0.5 </td>\n",
       "    </tr>\n",
       "    <tr>\n",
       "        <td style=\"text-align:center;background-color:#92CCA6;color:black\"> Valid Minimum </td>\n",
       "        <td style=\"text-align:center;background-color:#92CCA6;color:black\"> Valid Parameters </td>\n",
       "        <td colspan=\"3\" style=\"text-align:center;background-color:#92CCA6;color:black\"> No Parameters at limit </td>\n",
       "    </tr>\n",
       "    <tr>\n",
       "        <td colspan=\"2\" style=\"text-align:center;background-color:#92CCA6;color:black\"> Below EDM threshold (goal x 10) </td>\n",
       "        <td colspan=\"3\" style=\"text-align:center;background-color:#92CCA6;color:black\"> Below call limit </td>\n",
       "    </tr>\n",
       "    <tr>\n",
       "        <td style=\"text-align:center;background-color:#92CCA6;color:black\"> Hesse ok </td>\n",
       "        <td style=\"text-align:center;background-color:#92CCA6;color:black\"> Has Covariance </td>\n",
       "        <td style=\"text-align:center;background-color:#92CCA6;color:black\" title=\"Is covariance matrix accurate?\"> Accurate </td>\n",
       "        <td style=\"text-align:center;background-color:#92CCA6;color:black\" title=\"Is covariance matrix positive definite?\"> Pos. def. </td>\n",
       "        <td style=\"text-align:center;background-color:#92CCA6;color:black\" title=\"Was positive definiteness enforced by Minuit?\"> Not forced </td>\n",
       "    </tr>\n",
       "</table><table>\n",
       "    <tr>\n",
       "        <td></td>\n",
       "        <th title=\"Variable name\"> Name </th>\n",
       "        <th title=\"Value of parameter\"> Value </th>\n",
       "        <th title=\"Hesse error\"> Hesse Error </th>\n",
       "        <th title=\"Minos lower error\"> Minos Error- </th>\n",
       "        <th title=\"Minos upper error\"> Minos Error+ </th>\n",
       "        <th title=\"Lower limit of the parameter\"> Limit- </th>\n",
       "        <th title=\"Upper limit of the parameter\"> Limit+ </th>\n",
       "        <th title=\"Is the parameter fixed in the fit\"> Fixed </th>\n",
       "    </tr>\n",
       "    <tr>\n",
       "        <th> 0 </th>\n",
       "        <td> sigfrac </td>\n",
       "        <td> 0.300 </td>\n",
       "        <td> 0.018 </td>\n",
       "        <td>  </td>\n",
       "        <td>  </td>\n",
       "        <td> 0 </td>\n",
       "        <td> 1 </td>\n",
       "        <td>  </td>\n",
       "    </tr>\n",
       "    <tr>\n",
       "        <th> 1 </th>\n",
       "        <td> atmosfrac </td>\n",
       "        <td> 0.40 </td>\n",
       "        <td> 0.07 </td>\n",
       "        <td>  </td>\n",
       "        <td>  </td>\n",
       "        <td> 0 </td>\n",
       "        <td> 1 </td>\n",
       "        <td>  </td>\n",
       "    </tr>\n",
       "</table>"
      ],
      "text/plain": [
       "┌──────────────────────────────────┬──────────────────────────────────────┐\n",
       "│ FCN = -2739                      │        Ncalls = 57 (57 total)        │\n",
       "│ EDM = 2.8e-08 (Goal: 0.0001)     │               up = 0.5               │\n",
       "├───────────────┬──────────────────┼──────────────────────────────────────┤\n",
       "│ Valid Minimum │ Valid Parameters │        No Parameters at limit        │\n",
       "├───────────────┴──────────────────┼──────────────────────────────────────┤\n",
       "│ Below EDM threshold (goal x 10)  │           Below call limit           │\n",
       "├───────────────┬──────────────────┼───────────┬─────────────┬────────────┤\n",
       "│   Hesse ok    │  Has Covariance  │ Accurate  │  Pos. def.  │ Not forced │\n",
       "└───────────────┴──────────────────┴───────────┴─────────────┴────────────┘\n",
       "┌───┬───────────┬───────────┬───────────┬────────────┬────────────┬─────────┬─────────┬───────┐\n",
       "│   │ Name      │   Value   │ Hesse Err │ Minos Err- │ Minos Err+ │ Limit-  │ Limit+  │ Fixed │\n",
       "├───┼───────────┼───────────┼───────────┼────────────┼────────────┼─────────┼─────────┼───────┤\n",
       "│ 0 │ sigfrac   │   0.300   │   0.018   │            │            │    0    │    1    │       │\n",
       "│ 1 │ atmosfrac │   0.40    │   0.07    │            │            │    0    │    1    │       │\n",
       "└───┴───────────┴───────────┴───────────┴────────────┴────────────┴─────────┴─────────┴───────┘"
      ]
     },
     "execution_count": 31,
     "metadata": {},
     "output_type": "execute_result"
    }
   ],
   "source": [
    "m = Minuit.from_array_func(LLH, (0., 0.) , limit=limits, name=names, **kwds)\n",
    "m.migrad()"
   ]
  },
  {
   "cell_type": "code",
   "execution_count": 51,
   "metadata": {},
   "outputs": [
    {
     "data": {
      "text/plain": [
       "<iminuit._libiminuit.Minuit at 0x7facd58e0f90>"
      ]
     },
     "execution_count": 51,
     "metadata": {},
     "output_type": "execute_result"
    }
   ],
   "source": [
    "m"
   ]
  },
  {
   "cell_type": "code",
   "execution_count": null,
   "metadata": {},
   "outputs": [],
   "source": []
  }
 ],
 "metadata": {
  "hide_input": false,
  "kernelspec": {
   "display_name": "Python 3",
   "language": "python",
   "name": "python3"
  },
  "language_info": {
   "codemirror_mode": {
    "name": "ipython",
    "version": 3
   },
   "file_extension": ".py",
   "mimetype": "text/x-python",
   "name": "python",
   "nbconvert_exporter": "python",
   "pygments_lexer": "ipython3",
   "version": "3.7.7"
  },
  "latex_envs": {
   "bibliofile": "biblio.bib",
   "cite_by": "apalike",
   "current_citInitial": 1,
   "eqLabelWithNumbers": true,
   "eqNumInitial": 0
  }
 },
 "nbformat": 4,
 "nbformat_minor": 4
}
